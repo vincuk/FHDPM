{
 "cells": [
  {
   "cell_type": "code",
   "execution_count": 1,
   "metadata": {
    "collapsed": false,
    "deletable": true,
    "editable": true
   },
   "outputs": [],
   "source": [
    "import math\n",
    "import numpy as np\n",
    "import scipy.sparse as sp\n",
    "from scipy.sparse.linalg import spsolve\n",
    "import random as rnd\n",
    "import pandas as pd\n",
    "import matplotlib.pyplot as plt"
   ]
  },
  {
   "cell_type": "markdown",
   "metadata": {
    "deletable": true,
    "editable": true
   },
   "source": [
    "Parameters of grid:"
   ]
  },
  {
   "cell_type": "code",
   "execution_count": 2,
   "metadata": {
    "collapsed": true,
    "deletable": true,
    "editable": true
   },
   "outputs": [],
   "source": [
    "JOBS = 4                          # Numbers of jobs\n",
    "CRITERION = 1e-3                  # Convergence criterion\n",
    "MAXITERATIONS = 100               # Maximal number of iterations\n",
    "PERIODS = 20                      # Number of periods for simulation\n",
    "AGENTS = 5000                     # Number of agents\n",
    "\n",
    "AUGMA = 22000                     # Borrowing limit\n",
    "NBA = 75                          # Number of assets points in the grid\n",
    "AMIN = 1000                       # Minimal value of assets\n",
    "AMAX = AMIN + 1.5*PERIODS*AUGMA   # Maximal value of assets\n",
    "DELTAA = (AMAX - AMIN) / NBA      # Increment of assets\n",
    "\n",
    "AUGMH = 4320                      # Maximum hours worked per year\n",
    "NBH = 75                          # Number of hours worked points in the grid\n",
    "HMIN = 1000                       # Minimal value of hours worked\n",
    "HMAX = HMIN + 1.5*PERIODS*AUGMH   # Maximal value of hours worked\n",
    "DELTAH = (HMAX - HMIN) / NBH      # Increment of hours worked"
   ]
  },
  {
   "cell_type": "markdown",
   "metadata": {
    "deletable": true,
    "editable": true
   },
   "source": [
    "Earnings function parameters (Group 2):"
   ]
  },
  {
   "cell_type": "code",
   "execution_count": 3,
   "metadata": {
    "collapsed": true,
    "deletable": true,
    "editable": true
   },
   "outputs": [],
   "source": [
    "WAGECONSTANT= 3.60                  # Utility of being employed\n",
    "ALPHA= 0.17                       # Performance pay premium\n",
    "# Earnings premium\n",
    "ZETA= [0, -.29, -.48, -.26, -.40, -.50, -.31, -.53, -.72]\n",
    "# Learning by doing\n",
    "GAMMA= [0.66, 0.22, 0.0]\n",
    "XI= -0.08                         # Depreciation of human capital"
   ]
  },
  {
   "cell_type": "markdown",
   "metadata": {
    "deletable": true,
    "editable": true
   },
   "source": [
    "Moments of model (Group 2):"
   ]
  },
  {
   "cell_type": "code",
   "execution_count": 4,
   "metadata": {
    "collapsed": true,
    "deletable": true,
    "editable": true
   },
   "outputs": [],
   "source": [
    "PSI = 0.39                         # Labor supply elasticity\n",
    "CHI = 0.37                         # Disutility of labor supply"
   ]
  },
  {
   "cell_type": "markdown",
   "metadata": {
    "deletable": true,
    "editable": true
   },
   "source": [
    "Parameters of model:"
   ]
  },
  {
   "cell_type": "code",
   "execution_count": 5,
   "metadata": {
    "collapsed": true,
    "deletable": true,
    "editable": true
   },
   "outputs": [],
   "source": [
    "BETA = 0.98                           # Discount rate\n",
    "R = 0.04                              # Fixed interest rate\n",
    "IOTA = 0.5                            # Intertemporal elasticity of substitution\n",
    "TAU = 0.29                            # Marginal tax rate\n",
    "\n",
    "ZSHOCKS = 3                           # Number of discrete earnings shocks\n",
    "z_shock_range = np.array([-0.2, 0, 0.2])  # Discrete earnings shocks range\n",
    "pp_range = [0, 1]                     # List of possible PP states\n",
    "\n",
    "# Probability of having PP given the job choice\n",
    "PPDDISTRIBUTION = [0.039017, 0.065532, 0.065887, 0.096139, 0.088425, 0.298176, \n",
    "            0.106907, 0.134264, 0.105652]\n",
    "            \n",
    "# Transition matrix of discrete earnings shocks\n",
    "PIMATRIX = np.array([0.1, 0.9, 0, 0.3, 0.4, 0.3, 0, 0.9, 0.1])\n",
    "PIMATRIX = PIMATRIX.reshape(ZSHOCKS, ZSHOCKS)\n",
    "\n",
    "# Probability of having discrete earnings shock\n",
    "ZDISTRIBUTION = [0.2, 0.6, 0.2]\n",
    "\n",
    "o_range = [False, True]               # List of possible o states"
   ]
  },
  {
   "cell_type": "markdown",
   "metadata": {
    "deletable": true,
    "editable": true
   },
   "source": [
    "Global functions:"
   ]
  },
  {
   "cell_type": "code",
   "execution_count": 6,
   "metadata": {
    "collapsed": false,
    "deletable": true,
    "editable": true
   },
   "outputs": [],
   "source": [
    "def map_to_index(pp, j, o):\n",
    "    '''\n",
    "    Return state index\n",
    "    \n",
    "    :param int pp: 1 = receiving PP, 0 = not receiving PP\n",
    "    :param int j: current job type\n",
    "    :param bool o: True = changed job, False = kept job\n",
    "    '''\n",
    "    if o:\n",
    "        _o = 1\n",
    "    else:\n",
    "        _o = 0            \n",
    "    return pp*( len(o_range)*JOBS ) + j*len(o_range) + _o\n",
    "\n",
    "def wage(j, pp, h, h_cum, o, z_shock):\n",
    "    '''\n",
    "    Earnings function\n",
    "    \n",
    "    :param int j: current job type\n",
    "    :param int pp: 1 = receiving PP, 0 = not receiving PP\n",
    "    :param float h: current hours worked\n",
    "    :param float h_cum: cumulative hours worked\n",
    "    :param bool o: True = changed job, False = kept job\n",
    "    :param float z_shock: shock\n",
    "    '''\n",
    "    if o:\n",
    "        _o = 1\n",
    "    else:\n",
    "        _o = 0\n",
    "    if h == 0:\n",
    "        _log_h = -np.inf\n",
    "    else:\n",
    "        _log_h = math.log(h)\n",
    "    return math.exp(\n",
    "                WAGECONSTANT + \n",
    "                ALPHA*pp + \n",
    "                ZETA[j] + \n",
    "                GAMMA[0]*_log_h +\n",
    "                GAMMA[1]*math.log(h_cum) + \n",
    "                GAMMA[2]*math.log(h_cum)*pp + \n",
    "                XI*_o +\n",
    "                z_shock\n",
    "                )\n",
    "\n",
    "def consumption(a_prime, a, w):\n",
    "    '''\n",
    "    Consumption\n",
    "    \n",
    "    :param float a_prime: next period assets\n",
    "    :param float a: current peruod assets\n",
    "    :param float w: wage\n",
    "    '''\n",
    "    return (1 + R)*a - a_prime + (1 - TAU)*w\n",
    "                \n",
    "def labor(h_prime, h):\n",
    "    '''\n",
    "    Labor supply in hours\n",
    "    \n",
    "    :param float h_prime: next period cumulative hours worked\n",
    "    :param float h: current peruod cumulative hours worked\n",
    "    '''\n",
    "    return (h_prime - h)\n",
    "    \n",
    "def utility(c, l):\n",
    "    '''\n",
    "    Utility function\n",
    "\n",
    "    :param float c: consumption\n",
    "    :param float l: labor supply\n",
    "    '''\n",
    "    return CHI*(c**(1-IOTA))/(1-IOTA) - (1 - CHI)*(l**(1+PSI))/(1+PSI) \n",
    "\n",
    "def augm(a):\n",
    "    x = []\n",
    "    for i in range(1, len(a)):\n",
    "        x.append(a[i] - a[i-1])\n",
    "    return np.array(x)"
   ]
  },
  {
   "cell_type": "markdown",
   "metadata": {
    "deletable": true,
    "editable": true
   },
   "source": [
    "Model class:"
   ]
  },
  {
   "cell_type": "code",
   "execution_count": 7,
   "metadata": {
    "collapsed": false,
    "deletable": true,
    "editable": true
   },
   "outputs": [],
   "source": [
    "class Model:\n",
    "    '''\n",
    "    Model\n",
    "    '''\n",
    "\n",
    "    def __init__(self, a_min=AMIN, a_max=AMAX, nb_a=NBA, augm_a=AUGMA,\n",
    "                    h_min=HMIN, h_max=HMAX, nb_h=NBH, augm_h=AUGMH):\n",
    "        '''\n",
    "        :param float a_min: Minimal value of assets\n",
    "        :param float a_max: Maximal value of assets\n",
    "        :param int nb_a: Number of assets points in the grid\n",
    "        :param float augm_a: Borrowing limit \n",
    "        :param float h_min: Minimal value of hours worked\n",
    "        :param float h_max: Maximal value of hours worked\n",
    "        :param int nb_h: Number of hours worked points in the grid\n",
    "        :param float augm_h: Maximum hours worked per year\n",
    "\n",
    "        '''\n",
    "        (self.AMIN, self.AMAX, self.NBA) = (a_min, a_max, nb_a)\n",
    "        (self.HMIN, self.HMAX, self.NBH) = (h_min, h_max, nb_h)\n",
    "        self.AUGMA = augm_a\n",
    "        self.AUGMH = augm_h\n",
    "                \n",
    "        self.DELTAA = (AMAX - AMIN) / NBA      # Increment of assets\n",
    "        self.DELTAH = (HMAX - HMIN) / NBH      # Increment of hours worked\n",
    "        \n",
    "        self.a_grid = np.linspace(self.AMIN, self.AMAX, self.NBA)\n",
    "        self.h_grid = np.linspace(self.HMIN, self.HMAX, self.NBH)\n",
    "        \n",
    "        self.util = []\n",
    "        dr = np.zeros( (self.NBA*self.NBH, ZSHOCKS), dtype=int )\n",
    "        v = np.zeros( (self.NBA*self.NBH, ZSHOCKS), dtype=float )\n",
    "        self.v = [v] * ( len(pp_range)*len(o_range)*JOBS )\n",
    "        self.dr = [dr] * ( len(pp_range)*len(o_range)*JOBS )\n",
    "        \n",
    "\n",
    "    def wage(self, j, pp, h_prime, h, o, z_shock):\n",
    "        '''\n",
    "        Earnings function on grid\n",
    "        \n",
    "        :param int j: current job type\n",
    "        :param int pp: 1 = receiving PP, 0 = not receiving PP\n",
    "        :param int h_prime: index of the next period cumulative hours worked\n",
    "        :param int h: index of the current peruod cumulative hours worked\n",
    "        :param bool o: True = changed job, False = kept job\n",
    "        :param int z_shock: z-shock index\n",
    "        '''\n",
    "        if 2*h - h_prime < 0:\n",
    "            _h_old = self.HMIN\n",
    "        else:\n",
    "            _h_old = self.HMIN + self.DELTAH*(2*h - h_prime)\n",
    "        return wage( j, pp, (h_prime - h), _h_old, o, z_shock_range[z_shock] )\n",
    "    \n",
    "    def consumption(self, j, pp, h_prime, h, a_prime, a, o, z_shock):\n",
    "        '''\n",
    "        Consumption on grid\n",
    "    \n",
    "        :param int j: current job type\n",
    "        :param int pp: 1 = receiving PP, 0 = not receiving PP\n",
    "        :param int h_prime: index of the next period cumulative hours worked\n",
    "        :param int h: index of the current peruod cumulative hours worked\n",
    "        :param float a_prime: index of the next period assets\n",
    "        :param float a: index of the current peruod assets\n",
    "        :param bool o: True = changed job, False = kept job\n",
    "        :param int z_shock: z-shock index\n",
    "        '''\n",
    "        _w = self.wage(j, pp, h_prime, h, o, z_shock)\n",
    "        return consumption( self.AMIN + self.DELTAA*a_prime, self.AMIN + self.DELTAA*a, _w )\n",
    "                \n",
    "    def labor(self, h_prime, h):\n",
    "        '''\n",
    "        Labor supply on grid\n",
    "    \n",
    "        :param int h_prime: index of the next period cumulative hours worked\n",
    "        :param int h: index of the current peruod cumulative hours worked\n",
    "        '''\n",
    "        return self.DELTAH * labor(h_prime, h)  / self.AUGMH\n",
    "        \n",
    "    def utility(self, c, l):\n",
    "        '''\n",
    "        Utility function on grid\n",
    "\n",
    "        :param float c: consumption on grid\n",
    "        :param float l: labor supply on grid\n",
    "        '''\n",
    "        return CHI*(c**(1-IOTA))/(1-IOTA) - \\\n",
    "               (1 - CHI)*(l**(1+PSI))/(1+PSI)       #utility(c, l)\n",
    "        \n",
    "    def evaluate_model(self):\n",
    "        if len(self.util) == 0:\n",
    "            self.update_utility_matrix()\n",
    "        self.iterate_model()\n",
    "        \n",
    "    def update_utility_matrix(self):\n",
    "        print(\"Updating utility matrix\", end='')\n",
    "        for pp in pp_range:\n",
    "            for j in range(JOBS):\n",
    "                for o in o_range:\n",
    "                    print(\".\", end='')\n",
    "                    _temp_um = np.zeros((self.NBA*self.NBH, self.NBA*self.NBH, ZSHOCKS), dtype=float)\n",
    "                    _temp_um.fill(np.nan) \n",
    "                \n",
    "                    for z_shock in range(ZSHOCKS): \n",
    "                        for h_start in range(self.NBH):\n",
    "                            for a_start in range(self.NBA):\n",
    "                                for h_end in range(h_start, self.NBH):\n",
    "                                    if h_end - h_start > self.AUGMH/self.DELTAH:\n",
    "                                        continue\n",
    "                                    for a_end in range(a_start, self.NBA):\n",
    "                                        if a_end - a_start > self.AUGMA/self.DELTAA:\n",
    "                                            continue\n",
    "                                        _c = self.consumption(j, pp, \n",
    "                                                            h_end, h_start, \n",
    "                                                            a_end, a_start,\n",
    "                                                            o, z_shock);\n",
    "                                        if _c < 0:\n",
    "                                            continue\n",
    "                                        _l = self.labor(h_end, h_start)\n",
    "                                        _temp_um[a_start + h_start*self.NBA, \n",
    "                                                    a_end + h_end*self.NBA, \n",
    "                                                    z_shock] = \\\n",
    "                                            self.utility(_c, _l)\n",
    "                    self.util.append(_temp_um)\n",
    "        print(\" Done\")\n",
    "\n",
    "    def iterate_model(self):\n",
    "        _temp_u0 = np.zeros( (self.NBA*self.NBH*ZSHOCKS), dtype=float )\n",
    "        _distance = 1\n",
    "        _iteration = 0\n",
    "        \n",
    "        while _distance > CRITERION and _iteration < MAXITERATIONS:\n",
    "            _dr = []\n",
    "            _temp_v = []\n",
    "\n",
    "            for pp in pp_range:\n",
    "                for j in range(JOBS):\n",
    "                    for o in o_range:\n",
    "                        _dr.append( np.nanargmax(\n",
    "                                    self.util[map_to_index(pp, j, o)] + \n",
    "                                    BETA*np.tile( self.v[map_to_index(pp, j, o)]\n",
    "                                    .dot(PIMATRIX), \n",
    "                                    (self.NBA*self.NBH, 1, 1)), axis=1 ) )\n",
    "                        _Q = sp.lil_matrix( \n",
    "                                    (self.NBA*self.NBH*ZSHOCKS, self.NBA*self.NBH*ZSHOCKS), \n",
    "                                    dtype=float )\n",
    "\n",
    "                        for z_shock in range(ZSHOCKS):\n",
    "                            _Q0 = sp.lil_matrix( (self.NBA*self.NBH, self.NBA*self.NBH), \n",
    "                                                    dtype=float )\n",
    "                            for i in range(self.NBA*self.NBH):\n",
    "                                _Q0[i, _dr[map_to_index(pp, j, o)][i, \n",
    "                                                                z_shock]] = 1\n",
    "                                _temp_u0[i + z_shock*self.NBA*self.NBH] = \\\n",
    "                                    self.util[map_to_index(pp, j, o)][i, \n",
    "                                        _dr[map_to_index(pp, j, o)][i, z_shock], \n",
    "                                        z_shock]\n",
    "                            _Q[z_shock*self.NBA*self.NBH : (z_shock + 1)*self.NBA*self.NBH, :] = \\\n",
    "                                    sp.kron( PIMATRIX[:, z_shock], _Q0 )            \n",
    "\n",
    "                        _temp_u0 += np.euler_gamma\n",
    "                        _solution = spsolve( \n",
    "                                    (sp.eye(self.NBA*self.NBH*ZSHOCKS) - BETA*_Q), \n",
    "                                    _temp_u0 )\n",
    "                        _temp_v.append( \n",
    "                                    _solution.reshape( (ZSHOCKS, self.NBA*self.NBH)).T )\n",
    "\n",
    "            _distance = np.max( abs( np.array(self.dr) - np.array(_dr) ) )\n",
    "\n",
    "            _iteration +=1\n",
    "            self.v = _temp_v\n",
    "            self.dr = _dr\n",
    "\n",
    "            print(\"Iteration: {0:2d}; Distance: {1:d}\".format(_iteration, _distance))\n",
    "            if _iteration == MAXITERATIONS:\n",
    "                print(\"Max number of iterations reached!\")\n",
    "    \n",
    "    def save_to_csv(self):\n",
    "        _size = len(pp_range)*len(o_range)*JOBS*self.NBA*self.NBH\n",
    "        _df = pd.DataFrame(np.array(self.dr).reshape(_size, ZSHOCKS),\n",
    "                                columns=z_shock_range)\n",
    "        _df.to_csv('dr.csv')\n",
    "        _df = pd.DataFrame(np.array(self.v).reshape(_size, ZSHOCKS),\n",
    "                                columns=z_shock_range)\n",
    "        _df.to_csv('v.csv')\n",
    "        \n",
    "    def load_from_csv(self):\n",
    "        _df = pd.read_csv('dr.csv', index_col=0)\n",
    "        self.dr = _df.as_matrix().reshape(len(pp_range)*len(o_range)*JOBS, \n",
    "                            self.NBA*self.NBH, ZSHOCKS)\n",
    "        _df = pd.read_csv('v.csv', index_col=0)\n",
    "        self.v = _df.as_matrix().reshape(len(pp_range)*len(o_range)*JOBS, \n",
    "                            self.NBA*self.NBH, ZSHOCKS)\n",
    "    \n",
    "    def show(self, i, j, k):\n",
    "        plt.figure()\n",
    "        plt.plot( self.h_grid, self.h_grid )\n",
    "        plt.plot( self.h_grid,\n",
    "                 self.h_grid[self.dr[i].\n",
    "                 reshape(self.NBH, self.NBA, ZSHOCKS)[:, j, k] // self.NBA] )\n",
    "\n",
    "        plt.figure()\n",
    "        plt.plot( self.a_grid, self.a_grid )\n",
    "        plt.plot( self.a_grid,\n",
    "                 self.a_grid[self.dr[i].\n",
    "                 reshape(self.NBH, self.NBA, ZSHOCKS)[j, :, k] % self.NBA] )\n",
    "\n",
    "        plt.show()"
   ]
  },
  {
   "cell_type": "markdown",
   "metadata": {
    "deletable": true,
    "editable": true
   },
   "source": [
    "Model evaluation:"
   ]
  },
  {
   "cell_type": "code",
   "execution_count": null,
   "metadata": {
    "collapsed": false,
    "deletable": true,
    "editable": true,
    "scrolled": true
   },
   "outputs": [
    {
     "name": "stdout",
     "output_type": "stream",
     "text": [
      "Updating utility matrix................ Done\n",
      "Iteration:  1; Distance: 5624\n",
      "Iteration:  2; Distance: 150\n",
      "Iteration:  3; Distance: 151\n",
      "Iteration:  4; Distance: 151\n",
      "Iteration:  5; Distance: 151\n",
      "Iteration:  6; Distance: 151\n",
      "Iteration:  7; Distance: 151\n",
      "Iteration:  8; Distance: 151\n"
     ]
    }
   ],
   "source": [
    "m = Model()\n",
    "\n",
    "m.evaluate_model()"
   ]
  },
  {
   "cell_type": "markdown",
   "metadata": {
    "deletable": true,
    "editable": true
   },
   "source": [
    "Simulation utilities:"
   ]
  },
  {
   "cell_type": "code",
   "execution_count": null,
   "metadata": {
    "collapsed": false,
    "deletable": true,
    "editable": true
   },
   "outputs": [],
   "source": [
    "def simulate_agent(m, log=True):\n",
    "    _dr_idx = NBA // 2\n",
    "    _h = m.HMIN + (_dr_idx // m.NBA)*m.DELTAH\n",
    "    _a = m.AMIN + (_dr_idx % m.NBA)*m.DELTAA\n",
    "    res = np.array( [(0.0, 0.0, 0.0, 0.0, 0.0)]*PERIODS )\n",
    "    if log:\n",
    "        print(\" Period| Job| PP| Shock|     h|      a|    l|       c|       w \")\n",
    "        print(\" {0:6d}|   -|  -|     -|{1:6.0f}|{2: 6.0f}|    -|       -|       -\".\n",
    "                format(0, _h, _a) )\n",
    "    _chosen = -1\n",
    "    for period in range(PERIODS):            \n",
    "        _temp_v = [0]*JOBS\n",
    "        _temp_idx = [0]*JOBS\n",
    "        _temp_state = [(0,0,0)]*JOBS\n",
    "        for j in range(JOBS):\n",
    "            _pp_prob = rnd.random()\n",
    "            if (_pp_prob < PPDDISTRIBUTION[j]):\n",
    "                pp = 1\n",
    "            else:\n",
    "                pp = 0\n",
    "            _z_shock_prob = rnd.random()\n",
    "            _z_index = 0\n",
    "            _sum = ZDISTRIBUTION[_z_index]\n",
    "            while (_sum < _z_shock_prob):\n",
    "                _z_index += 1\n",
    "                _sum += ZDISTRIBUTION[_z_index]\n",
    "            _temp_idx[j] = m.dr[map_to_index(pp, j, \n",
    "                j != _chosen)].reshape(m.NBA*m.NBH, ZSHOCKS)[_dr_idx, _z_index]\n",
    "            _temp_v[j] = m.v[map_to_index(pp, j, \n",
    "                j != _chosen)].reshape(m.NBA*m.NBH, ZSHOCKS)[_temp_idx[j], _z_index]\n",
    "            _temp_state[j] = (pp, j == _chosen, z_shock_range[_z_index])\n",
    "        _chosen = np.argmax(_temp_v)\n",
    "                \n",
    "        _l = labor(m.HMIN + (_temp_idx[_chosen] // m.NBA)*m.DELTAH, \n",
    "                    m.HMIN + (_dr_idx // m.NBA)*m.DELTAH) / m.AUGMH\n",
    "        _w = wage( _chosen, \n",
    "                    _temp_state[_chosen][0], \n",
    "                    _l*m.AUGMH,\n",
    "                    m.HMIN + (_dr_idx // m.NBA)*m.DELTAH, \n",
    "                    _temp_state[_chosen][1],\n",
    "                    _temp_state[_chosen][2] )\n",
    "        _c = consumption(m.AMIN + (_temp_idx[_chosen] % m.NBA)*m.DELTAA,\n",
    "                m.AMIN + (_dr_idx % m.NBA)*m.DELTAA, _w)\n",
    "        _dr_idx = _temp_idx[_chosen]\n",
    "        _h = m.HMIN + (_dr_idx // m.NBA)*m.DELTAH\n",
    "        _a = m.AMIN + (_dr_idx % m.NBA)*m.DELTAA\n",
    "        \n",
    "        res[period] = (_h, _a, _l, _c, _w)\n",
    "        if log:\n",
    "            print(\" {0:6d}|{1: 4d}|{2: 3d}|{3: 6.1f}|\".\n",
    "                    format(period + 1,\n",
    "                    _chosen, \n",
    "                    _temp_state[_chosen][0], \n",
    "                    _temp_state[_chosen][2]) +\n",
    "                    \"{0:6.0f}|{1: 6.0f}|{2: 5.2f}|{3: 8.0f}|{4: 8.0f}\".\n",
    "                        format(_h, _a, _l, _c, _w) )\n",
    "    return res\n",
    "        \n",
    "def integrate(m):\n",
    "    average = np.array( [(0.0, 0.0, 0.0, 0.0, 0.0)]*PERIODS )\n",
    "    for agent in range(AGENTS):\n",
    "        average += simulate_agent(m, log=False)\n",
    "    average /= AGENTS\n",
    "    print(\"     h|      a|    l|     c|     w \")\n",
    "    for period in range(PERIODS):   \n",
    "        (_h, _a, _l, _c, _w) = tuple(average[period])       \n",
    "        print(\"{0:6.0f}|{1: 6.0f}|{2: 5.2f}|{3: 6.0f}|{4: 6.0f}\".\n",
    "                        format( _h, _a, _l, _c, _w ) )\n",
    "    return average"
   ]
  },
  {
   "cell_type": "markdown",
   "metadata": {
    "deletable": true,
    "editable": true
   },
   "source": [
    "Simulate all agents:"
   ]
  },
  {
   "cell_type": "code",
   "execution_count": null,
   "metadata": {
    "collapsed": false,
    "deletable": true,
    "editable": true
   },
   "outputs": [],
   "source": [
    "res = integrate(m)"
   ]
  },
  {
   "cell_type": "markdown",
   "metadata": {
    "deletable": true,
    "editable": true
   },
   "source": [
    "Plot the results:"
   ]
  },
  {
   "cell_type": "code",
   "execution_count": null,
   "metadata": {
    "collapsed": false,
    "deletable": true,
    "editable": true
   },
   "outputs": [],
   "source": [
    "plt.figure()\n",
    "plt.plot(np.linspace(1,PERIODS,PERIODS), np.log(res[:,4]))\n",
    "plt.xlabel(\"Period\")\n",
    "plt.ylabel(\"Log earnings\")\n",
    "plt.figure()\n",
    "plt.plot(np.linspace(1,PERIODS,PERIODS), np.log(res[:,0]))\n",
    "plt.xlabel(\"Period\")\n",
    "plt.ylabel(\"Log cumulative hours worked\")\n",
    "plt.show()"
   ]
  },
  {
   "cell_type": "markdown",
   "metadata": {
    "collapsed": false,
    "deletable": true,
    "editable": true
   },
   "source": [
    "Recalculate the moments:"
   ]
  },
  {
   "cell_type": "code",
   "execution_count": null,
   "metadata": {
    "collapsed": false,
    "deletable": true,
    "editable": true
   },
   "outputs": [],
   "source": [
    "#PSI\n",
    "ar1 = res[1:,4]\n",
    "ar2 = augm(res[:,0])\n",
    "\n",
    "PSI = np.cov(ar1, ar2)[0,1] / (np.std(ar1) * np.std(ar2))\n",
    "CHI = np.mean(res[:,2])\n",
    "\n",
    "print(\"PSI: {0: 0.3f}\\nCHI: {1: 0.3f}\".format(PSI, CHI))"
   ]
  },
  {
   "cell_type": "code",
   "execution_count": null,
   "metadata": {
    "collapsed": true,
    "deletable": true,
    "editable": true
   },
   "outputs": [],
   "source": []
  }
 ],
 "metadata": {
  "kernelspec": {
   "display_name": "Python 3",
   "language": "python",
   "name": "python3"
  },
  "language_info": {
   "codemirror_mode": {
    "name": "ipython",
    "version": 3
   },
   "file_extension": ".py",
   "mimetype": "text/x-python",
   "name": "python",
   "nbconvert_exporter": "python",
   "pygments_lexer": "ipython3",
   "version": "3.5.2"
  }
 },
 "nbformat": 4,
 "nbformat_minor": 2
}
