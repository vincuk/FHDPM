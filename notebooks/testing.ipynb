{
 "cells": [
  {
   "cell_type": "code",
   "execution_count": 1,
   "metadata": {
    "collapsed": false,
    "deletable": true,
    "editable": true
   },
   "outputs": [],
   "source": [
    "import math\n",
    "import numpy as np\n",
    "import scipy.sparse as sp\n",
    "from scipy.sparse.linalg import spsolve\n",
    "import random as rnd\n",
    "import pandas as pd\n",
    "import matplotlib.pyplot as plt"
   ]
  },
  {
   "cell_type": "markdown",
   "metadata": {
    "deletable": true,
    "editable": true
   },
   "source": [
    "Parameters of grid:"
   ]
  },
  {
   "cell_type": "code",
   "execution_count": 2,
   "metadata": {
    "collapsed": true,
    "deletable": true,
    "editable": true
   },
   "outputs": [],
   "source": [
    "JOBS = 1                              # Numbers of jobs\n",
    "CRITERION = 1e-3                      # Convergence criterion\n",
    "MAXITERATIONS = 100                   # Maximal number of iterations\n",
    "PERIODS = 20                          # Number of periods for simulation\n",
    "AGENTS = 7000                         # Number of agents\n",
    "\n",
    "AUGMA = 22000                         # Borrowing limit\n",
    "NBA = 5                              # Number of assets points in the grid\n",
    "AMIN = 10000                           # Minimal value of assets\n",
    "AMAX = 500000                         # Maximal value of assets\n",
    "\n",
    "AUGMH = 4320                          # Maximum hours worked per year\n",
    "NBH = 50                              # Number of hours worked points in the grid\n",
    "HMIN = 7000                           # Minimal value of hours worked\n",
    "HMAX = 85000                          # Maximal value of hours worked\n",
    "\n",
    "# AMIN = 0.2626\n",
    "# AMAX = 4.9889"
   ]
  },
  {
   "cell_type": "markdown",
   "metadata": {
    "deletable": true,
    "editable": true
   },
   "source": [
    "Earnings function parameters (All):"
   ]
  },
  {
   "cell_type": "code",
   "execution_count": 3,
   "metadata": {
    "collapsed": true,
    "deletable": true,
    "editable": true
   },
   "outputs": [],
   "source": [
    "WAGECONSTANT = 2.52                # Utility of being employed\n",
    "ALPHA = 0.28                       # Performance pay premium\n",
    "# Earnings premium\n",
    "ZETA = [0, -.12, -.36, -.21, -.28, -.36, -.16, -.46, -.62] \n",
    "# Learning by doing\n",
    "GAMMA = [0.76, 0.25, -0.02] \n",
    "XI = -0.07                         # Depreciation of human capital"
   ]
  },
  {
   "cell_type": "markdown",
   "metadata": {
    "deletable": true,
    "editable": true
   },
   "source": [
    "Moments of model (All):"
   ]
  },
  {
   "cell_type": "code",
   "execution_count": 4,
   "metadata": {
    "collapsed": true,
    "deletable": true,
    "editable": true
   },
   "outputs": [],
   "source": [
    "PSI = 0.41                         # Labor supply elasticity\n",
    "CHI = 0.36                         # Disutility of labor supply"
   ]
  },
  {
   "cell_type": "markdown",
   "metadata": {
    "deletable": true,
    "editable": true
   },
   "source": [
    "Parameters of model:"
   ]
  },
  {
   "cell_type": "code",
   "execution_count": 5,
   "metadata": {
    "collapsed": false,
    "deletable": true,
    "editable": true
   },
   "outputs": [],
   "source": [
    "BETA = 0.98                           # Discount rate\n",
    "R = 0.04                              # Fixed interest rate\n",
    "IOTA = 0.5                            # Intertemporal elasticity of substitution\n",
    "TAU = 0.29                            # Marginal tax rate\n",
    "\n",
    "ZSHOCKS = 3                           # Number of discrete earnings shocks\n",
    "z_shock_range = np.array([-1, 0, 1])/20  # Discrete earnings shocks range\n",
    "pp_range = [0, 1]                     # List of possible PP states\n",
    "\n",
    "# Probability of having PP given the job choice\n",
    "PPDDISTRIBUTION = [0.039017, 0.065532, 0.065887, 0.096139, 0.088425, 0.298176, \n",
    "            0.106907, 0.134264, 0.105652]\n",
    "            \n",
    "# Transition matrix of discrete earnings shocks\n",
    "PIMATRIX = np.array([7/15, 8/15, 0, 0.4, 0.2, 0.4, 0, 8/15, 7/15])\n",
    "PIMATRIX = PIMATRIX.reshape(ZSHOCKS, ZSHOCKS)\n",
    "\n",
    "# Probability of having discrete earnings shock\n",
    "ZDISTRIBUTION = [0.3, 0.4, 0.3]\n",
    "\n",
    "o_range = [False, True]               # List of possible o states"
   ]
  },
  {
   "cell_type": "code",
   "execution_count": 6,
   "metadata": {
    "collapsed": true
   },
   "outputs": [],
   "source": [
    "PPDDISTRIBUTION = [\n",
    "[0.2261905, 0.2857143, 0.2027027, 0.3817272, 0.2078767, 0.3080275, 0.4244343, 0.1842816, 0.3720966, 0.4858804, 0.5218593,\n",
    "0.5293737, 0.3721124, 0.4493249, 0.6381578, 0.5146791, 0.5922679, 0.5332589, 0.5117431, 0.5629579, 0.5749365, 0.5019999],\n",
    "[0.2852590, 0.2662420, 0.3536201, 0.3855332, 0.4075850, 0.4155194, 0.4510925, 0.4598753, 0.5888055, 0.5842944, 0.6055101, \n",
    "0.5802591, 0.6794434, 0.6630481, 0.6482930, 0.7274129, 0.7117230, 0.6689520, 0.6923058, 0.6233929, 0.5738572, 0.5687370],\n",
    "[0.1293500, 0.2212608, 0.1848688, 0.1642599, 0.2324451, 0.2166240, 0.2226831, 0.2308148, 0.3169514, 0.4353170, 0.4403737, \n",
    "0.5057345, 0.4480123, 0.4210563, 0.4365776, 0.5464440, 0.4756535, 0.4334243, 0.5592600, 0.6745570, 0.5346794, 0.4550637],\n",
    "[0.2672218, 0.3206308, 0.1667942, 0.2210191, 0.2513483, 0.2507335, 0.2919670, 0.3430441, 0.4016441, 0.4868953, 0.4584283, \n",
    "0.5431098, 0.4950821, 0.4924734, 0.7182794, 0.6640556, 0.4691735, 0.4397106, 0.4118190, 0.3247637, 0.2165149, 0.4062459],\n",
    "[0.2569009, 0.2782784, 0.3168253, 0.3282276, 0.3414351, 0.3983651, 0.3999525, 0.4294075, 0.5298476, 0.5816537, 0.6182097, \n",
    "0.5764422, 0.6190777, 0.6112993, 0.6056073, 0.6402891, 0.6245472, 0.6202418, 0.6183364, 0.6055132, 0.5652483, 0.5399299],\n",
    "[0.2023615, 0.2029750, 0.2238223, 0.2269491, 0.2405683, 0.2478660, 0.2792186, 0.3147041, 0.4197736, 0.4514789, 0.4393394, \n",
    "0.4704613, 0.4943117, 0.4691044, 0.5651123, 0.5572553, 0.5812581, 0.4830601, 0.5842594, 0.5639548, 0.5099648, 0.4978383],\n",
    "[0.1324745, 0.1329507, 0.1284098, 0.1126005, 0.1521349, 0.1678299, 0.1559256, 0.2097362, 0.2198340, 0.3339065, 0.3383134, \n",
    "0.3091074, 0.3728780, 0.3972242, 0.4323098, 0.4819185, 0.4767688, 0.4320474, 0.4261401, 0.4030975, 0.4122228, 0.3806762],\n",
    "[0.0913349, 0.1129764, 0.1030608, 0.1553628, 0.1806764, 0.1879892, 0.1861431, 0.2178382, 0.2463134, 0.3133631, 0.3384066, \n",
    "0.3713075, 0.4223481, 0.4015160, 0.3930278, 0.4229240, 0.3964960, 0.3686094, 0.4263992, 0.4670796, 0.3997695, 0.3845350],\n",
    "[0.2486264, 0.4194631, 0.3417533, 0.3603083, 0.2315789, 0.3566465, 0.2206676, 0.3615312, 0.5033089, 0.4615174, 0.5123493, \n",
    "0.6075004, 0.6454838, 0.7500589, 0.6393598, 0.5575300, 0.6021262, 0.5947722, 0.5161463, 0.5989467, 0.4467263, 0.5667175]\n",
    "]"
   ]
  },
  {
   "cell_type": "markdown",
   "metadata": {
    "deletable": true,
    "editable": true
   },
   "source": [
    "Global functions:"
   ]
  },
  {
   "cell_type": "code",
   "execution_count": 7,
   "metadata": {
    "collapsed": false,
    "deletable": true,
    "editable": true
   },
   "outputs": [],
   "source": [
    "def map_to_index(pp, j, o):\n",
    "    '''\n",
    "    Return state index\n",
    "    \n",
    "    :param int pp: 1 = receiving PP, 0 = not receiving PP\n",
    "    :param int j: current job type\n",
    "    :param bool o: True = changed job, False = kept job\n",
    "    '''\n",
    "    if o:\n",
    "        _o = 1\n",
    "    else:\n",
    "        _o = 0            \n",
    "    return pp*( len(o_range)*JOBS ) + j*len(o_range) + _o\n",
    "\n",
    "def wage(j, pp, h, h_cum, o, z_shock):\n",
    "    '''\n",
    "    Earnings function\n",
    "    \n",
    "    :param int j: current job type\n",
    "    :param int pp: 1 = receiving PP, 0 = not receiving PP\n",
    "    :param float h: current hours worked\n",
    "    :param float h_cum: cumulative hours worked\n",
    "    :param bool o: True = changed job, False = kept job\n",
    "    :param float z_shock: shock\n",
    "    '''\n",
    "    if h == 0:\n",
    "        if h_cum < HMAX:\n",
    "            return 0\n",
    "        else:\n",
    "            _log_h = 0\n",
    "    else:\n",
    "        _log_h = np.log(h)\n",
    "    if o:\n",
    "        _o = 1\n",
    "    else:\n",
    "        _o = 0\n",
    "    return math.exp(\n",
    "                WAGECONSTANT + \n",
    "                ALPHA*pp + \n",
    "                ZETA[j] + \n",
    "                GAMMA[0]*_log_h +\n",
    "                GAMMA[1]*math.log(h_cum) + \n",
    "                GAMMA[2]*math.log(h_cum)*pp + \n",
    "                XI*_o +\n",
    "                z_shock\n",
    "                )\n",
    "\n",
    "def consumption(a_prime, a, w):\n",
    "    '''\n",
    "    Consumption\n",
    "    \n",
    "    :param float a_prime: next period assets\n",
    "    :param float a: current peruod assets\n",
    "    :param float w: wage\n",
    "    '''\n",
    "    return (1 - TAU)*w + (1 + R)*a - a_prime\n",
    "                \n",
    "def labor(h_prime, h):\n",
    "    '''\n",
    "    Labor supply in hours\n",
    "    \n",
    "    :param float h_prime: next period cumulative hours worked\n",
    "    :param float h: current peruod cumulative hours worked\n",
    "    '''\n",
    "    return h_prime - h\n",
    "    \n",
    "def utility(c, l):\n",
    "    '''\n",
    "    Utility function\n",
    "\n",
    "    :param float c: consumption\n",
    "    :param float l: labor supply\n",
    "    '''\n",
    "    return CHI*(c**(1-IOTA))/(1-IOTA) - (1 - CHI)*(l**(1+PSI))/(1+PSI) \n",
    "#     return (c**(-0.5) - 1)/(-0.5)\n",
    "\n",
    "def augm(a):\n",
    "    x = []\n",
    "    for i in range(1, len(a)):\n",
    "        x.append(a[i] - a[i-1])\n",
    "    return np.array(x)\n",
    "\n",
    "def save_to_csv(m, fn):\n",
    "    _size = len(pp_range)*len(o_range)*JOBS*NBA*NBH\n",
    "    _df = pd.DataFrame(np.array(m.dr).reshape(_size, ZSHOCKS),\n",
    "                                columns=z_shock_range)\n",
    "    _df.to_csv(\"dr-\" + str(fn) + \".csv\")\n",
    "    _df = pd.DataFrame(np.array(m.v).reshape(_size, ZSHOCKS),\n",
    "                                columns=z_shock_range)\n",
    "    _df.to_csv(\"v-\" + str(fn) + \".csv\")"
   ]
  },
  {
   "cell_type": "markdown",
   "metadata": {
    "deletable": true,
    "editable": true
   },
   "source": [
    "Model class:"
   ]
  },
  {
   "cell_type": "code",
   "execution_count": 8,
   "metadata": {
    "collapsed": false,
    "deletable": true,
    "editable": true
   },
   "outputs": [],
   "source": [
    "class Model:\n",
    "    '''\n",
    "    Model\n",
    "    '''\n",
    "\n",
    "    def __init__(self, a_min=AMIN, a_max=AMAX, nb_a=NBA, augm_a=AUGMA,\n",
    "                    h_min=HMIN, h_max=HMAX, nb_h=NBH, augm_h=AUGMH):\n",
    "        '''\n",
    "        :param float a_min: Minimal value of assets\n",
    "        :param float a_max: Maximal value of assets\n",
    "        :param int nb_a: Number of assets points in the grid\n",
    "        :param float augm_a: Borrowing limit \n",
    "        :param float h_min: Minimal value of hours worked\n",
    "        :param float h_max: Maximal value of hours worked\n",
    "        :param int nb_h: Number of hours worked points in the grid\n",
    "        :param float augm_h: Maximum hours worked per year\n",
    "\n",
    "        '''\n",
    "        (self.AMIN, self.AMAX, self.NBA) = (a_min, a_max, nb_a)\n",
    "        (self.HMIN, self.HMAX, self.NBH) = (h_min, h_max, nb_h)\n",
    "        self.AUGMA = augm_a\n",
    "        self.AUGMH = augm_h\n",
    "                \n",
    "        if self.NBA > 1:\n",
    "            self.DELTAA = (self.AMAX - self.AMIN) / (self.NBA - 1)     # Increment of assets\n",
    "        else:\n",
    "            self.DELTAA = 1\n",
    "        if self.NBH > 1:\n",
    "            self.DELTAH = (self.HMAX - self.HMIN) / (self.NBH - 1)     # Increment of hours worked\n",
    "        else:\n",
    "            self.DELTAH = 1\n",
    "        \n",
    "        self.a_grid = np.linspace(self.AMIN, self.AMAX, self.NBA)\n",
    "        self.h_grid = np.linspace(self.HMIN, self.HMAX, self.NBH)\n",
    "        \n",
    "        self.util = []\n",
    "        dr = np.ones( (self.NBA*self.NBH, ZSHOCKS), dtype=int )   #!!!!!\n",
    "        v = np.zeros( (self.NBA*self.NBH, ZSHOCKS), dtype=float )\n",
    "        self.v = [v] * ( len(pp_range)*len(o_range)*JOBS )\n",
    "        self.dr = [dr] * ( len(pp_range)*len(o_range)*JOBS )\n",
    "        \n",
    "\n",
    "    def wage(self, j, pp, h_prime, h, o, z_shock):\n",
    "        '''\n",
    "        Earnings function on grid\n",
    "        \n",
    "        :param int j: current job type\n",
    "        :param int pp: 1 = receiving PP, 0 = not receiving PP\n",
    "        :param int h_prime: index of the next period cumulative hours worked\n",
    "        :param int h: index of the current peruod cumulative hours worked\n",
    "        :param bool o: True = changed job, False = kept job\n",
    "        :param int z_shock: z-shock index\n",
    "        '''\n",
    "        if 2*h - h_prime < 0:\n",
    "            _h_old = self.HMIN\n",
    "        else:\n",
    "            _h_old = self.HMIN + self.DELTAH*(2*h - h_prime)\n",
    "        if h == self.NBH:\n",
    "            _h = self.AUGMH*0.7\n",
    "        else:\n",
    "            _h = self.DELTAH*(h_prime - h)\n",
    "        return self.wage( j, pp, _h, _h_old, o, z_shock_range[z_shock] )\n",
    "    \n",
    "    def consumption(self, j, pp, h_prime, h, a_prime, a, o, z_shock):\n",
    "        '''\n",
    "        Consumption on grid\n",
    "    \n",
    "        :param int j: current job type\n",
    "        :param int pp: 1 = receiving PP, 0 = not receiving PP\n",
    "        :param int h_prime: index of the next period cumulative hours worked\n",
    "        :param int h: index of the current peruod cumulative hours worked\n",
    "        :param float a_prime: index of the next period assets\n",
    "        :param float a: index of the current peruod assets\n",
    "        :param bool o: True = changed job, False = kept job\n",
    "        :param int z_shock: z-shock index\n",
    "        '''\n",
    "#         _a_prime = self.a_grid[a_prime]\n",
    "#         _a = self.a_grid[a]\n",
    "#         return _a**0.3 + _a*0.9 - _a_prime\n",
    "        _w = self.wage(j, pp, h_prime, h, o, z_shock)\n",
    "#         return _w*(1 - TAU)\n",
    "        return consumption( self.AMIN + self.DELTAA*a_prime, self.AMIN + self.DELTAA*a, _w )\n",
    "                \n",
    "    def labor(self, h_prime, h):\n",
    "        '''\n",
    "        Labor supply on grid\n",
    "    \n",
    "        :param int h_prime: index of the next period cumulative hours worked\n",
    "        :param int h: index of the current peruod cumulative hours worked\n",
    "        '''\n",
    "        return self.DELTAH * labor(h_prime, h)  / self.AUGMH\n",
    "        \n",
    "    def utility(self, c, l):\n",
    "        '''\n",
    "        Utility function on grid\n",
    "\n",
    "        :param float c: consumption on grid\n",
    "        :param float l: labor supply on grid\n",
    "        '''\n",
    "        return CHI*(c**(1-IOTA))/(1-IOTA) - \\\n",
    "             (1 - CHI)*(l**(1+PSI))/(1+PSI)       #utility(c, l)\n",
    "#         return (c**(-0.5) - 1)/(-0.5)\n",
    "        \n",
    "    def evaluate_model(self):\n",
    "        if len(self.util) == 0:\n",
    "            self.update_utility_matrix()\n",
    "        self.iterate_model()\n",
    "        \n",
    "    def update_utility_matrix(self):\n",
    "        print(\"Updating utility matrix\", end='')\n",
    "        for pp in pp_range:\n",
    "            for j in range(JOBS):\n",
    "                for o in o_range:\n",
    "                    print(\".\", end='')\n",
    "                    _temp_um = np.zeros((self.NBA*self.NBH, self.NBA*self.NBH, ZSHOCKS), dtype=float)\n",
    "                    _temp_um.fill(np.nan) \n",
    "                \n",
    "                    for z_shock in range(ZSHOCKS): \n",
    "                        for h_start in range(self.NBH):\n",
    "                            for a_start in range(self.NBA):\n",
    "                                for h_end in range(h_start, self.NBH): \n",
    "                                    if h_end - h_start > self.AUGMH/self.DELTAH:\n",
    "                                        continue\n",
    "                                    for a_end in range(self.NBA): ###!!!!!!!!!!!!!!!! not from a_start!\n",
    "                                        if a_end - a_start > self.AUGMA/self.DELTAA:\n",
    "                                            continue\n",
    "                                        _c = self.consumption(j, pp, \n",
    "                                                            h_end, h_start, \n",
    "                                                            a_end, a_start,\n",
    "                                                            o, z_shock);                                        \n",
    "\n",
    "                                        if _c < 0:\n",
    "                                            continue\n",
    "                                        _l = self.labor(h_end, h_start)\n",
    "                                        \n",
    "#                                         print(a_start + h_start*self.NBA, \n",
    "#                                                     a_end + h_end*self.NBA)\n",
    "                                        \n",
    "                                        _temp_um[a_start + h_start*self.NBA, \n",
    "                                                    a_end + h_end*self.NBA, \n",
    "                                                    z_shock] = \\\n",
    "                                            self.utility(_c, _l)\n",
    "                    self.util.append(_temp_um)\n",
    "        print(\" Done\")\n",
    "\n",
    "    def iterate_model(self):\n",
    "        _temp_u0 = np.zeros( (self.NBA*self.NBH*ZSHOCKS), dtype=float )\n",
    "        _distance = [1] * ( len(pp_range)*len(o_range)*JOBS )\n",
    "        _iteration = 0\n",
    "        \n",
    "        while sum(_distance) > CRITERION and _iteration < MAXITERATIONS:\n",
    "            _dr = []\n",
    "            _temp_v = []\n",
    "\n",
    "            for pp in pp_range:\n",
    "                for j in range(JOBS):\n",
    "                    for o in o_range:\n",
    "                        if _distance[map_to_index(pp, j, o)] == 0:\n",
    "                            _dr.append( self.dr[map_to_index(pp, j, o)] )\n",
    "                            _temp_v.append( self.v[map_to_index(pp, j, o)] )\n",
    "                            continue\n",
    "                        \n",
    "                        _dr.append( np.nanargmax(\n",
    "                                    self.util[map_to_index(pp, j, o)] + \n",
    "                                    BETA*np.tile( self.v[map_to_index(pp, j, o)]\n",
    "                                    .dot(PIMATRIX), \n",
    "                                    (self.NBA*self.NBH, 1, 1)), axis=1 ) )\n",
    "                        \n",
    "                        _Q = sp.lil_matrix( \n",
    "                                    (self.NBA*self.NBH*ZSHOCKS, self.NBA*self.NBH*ZSHOCKS), \n",
    "                                    dtype=float )\n",
    "\n",
    "                        for z_shock in range(ZSHOCKS):\n",
    "                            _Q0 = sp.lil_matrix( (self.NBA*self.NBH, self.NBA*self.NBH), \n",
    "                                                    dtype=float )\n",
    "                            for i in range(self.NBA*self.NBH):\n",
    "                                _Q0[i, _dr[map_to_index(pp, j, o)][i, \n",
    "                                                                z_shock]] = 1\n",
    "                                _temp_u0[i + z_shock*self.NBA*self.NBH] = \\\n",
    "                                    self.util[map_to_index(pp, j, o)][i, \n",
    "                                        _dr[map_to_index(pp, j, o)][i, z_shock], \n",
    "                                        z_shock]\n",
    "                            _Q[z_shock*self.NBA*self.NBH : (z_shock + 1)*self.NBA*self.NBH, :] = \\\n",
    "                                    sp.kron( PIMATRIX[:, z_shock], _Q0 )            \n",
    "\n",
    "#                         _temp_u0 += np.euler_gamma\n",
    "                        _solution = spsolve( \n",
    "                                    (sp.eye(self.NBA*self.NBH*ZSHOCKS) - BETA*_Q), \n",
    "                                    _temp_u0 )\n",
    "                        _temp_v.append( \n",
    "                                    _solution.reshape( (ZSHOCKS, self.NBA*self.NBH)).T )\n",
    "\n",
    "                        _distance[map_to_index(pp, j, o)] = np.max( abs( self.dr[map_to_index(pp, j, o)] -\n",
    "                                                                         _dr[map_to_index(pp, j, o)] ) )\n",
    "#             _distance = np.max( abs( np.array(self.v) - np.array(_temp_v) ) )\n",
    "\n",
    "            _iteration +=1\n",
    "            self.v = _temp_v\n",
    "            self.dr = _dr\n",
    "\n",
    "            print(\"Iteration: {0:2d}; Distance: {1:d}\".format(_iteration, sum(_distance)))\n",
    "            if _iteration == MAXITERATIONS:\n",
    "                print(\"Max number of iterations reached!\")\n",
    "    \n",
    "    def load_from_csv(self, fn):\n",
    "        _df = pd.read_csv(\"dr-\" + str(fn) + \".csv\", index_col=0)\n",
    "        self.dr = _df.as_matrix().reshape(len(pp_range)*len(o_range)*JOBS, \n",
    "                            NBA*NBH, ZSHOCKS)\n",
    "        _df = pd.read_csv(\"v-\" + str(fn) + \".csv\", index_col=0)\n",
    "        self.v = _df.as_matrix().reshape(len(pp_range)*len(o_range)*JOBS, \n",
    "                            NBA*NBH, ZSHOCKS)\n",
    "\n",
    "        \n",
    "    def show(self, i, j, k):\n",
    "        plt.figure()\n",
    "        plt.plot( self.h_grid, self.h_grid )\n",
    "        plt.plot( self.h_grid,\n",
    "                 self.h_grid[self.dr[i].\n",
    "                 reshape(self.NBH, self.NBA, ZSHOCKS)[:, j, k] // self.NBA] )\n",
    "        \n",
    "        plt.figure()\n",
    "        plt.plot( self.a_grid, self.a_grid )\n",
    "        plt.plot( self.a_grid,\n",
    "                 self.a_grid[self.dr[i].\n",
    "                 reshape(self.NBH, self.NBA, ZSHOCKS)[j, :, k] % self.NBA] )\n",
    "\n",
    "        plt.show()"
   ]
  },
  {
   "cell_type": "markdown",
   "metadata": {
    "deletable": true,
    "editable": true
   },
   "source": [
    "Model evaluation:"
   ]
  },
  {
   "cell_type": "code",
   "execution_count": null,
   "metadata": {
    "collapsed": false,
    "deletable": true,
    "editable": true
   },
   "outputs": [],
   "source": [
    "m = Model()\n",
    "\n",
    "m.evaluate_model()\n",
    "\n",
    "# m.load_from_csv(1)"
   ]
  },
  {
   "cell_type": "code",
   "execution_count": null,
   "metadata": {
    "collapsed": false,
    "deletable": true,
    "editable": true
   },
   "outputs": [],
   "source": [
    "%matplotlib inline\n",
    "\n",
    "m.show(map_to_index(1,0,False),0,2)\n",
    "m.show(map_to_index(1,0,False),0,1)"
   ]
  },
  {
   "cell_type": "code",
   "execution_count": null,
   "metadata": {
    "collapsed": false,
    "deletable": true,
    "editable": true
   },
   "outputs": [],
   "source": [
    "plt.plot(m.h_grid, m.v[0].reshape(m.NBH, m.NBA, ZSHOCKS)[:,-1, 0] )\n",
    "plt.ylabel(\"value function\")\n",
    "plt.xlabel(\"cumulative hours worked\")\n",
    "plt.show()\n",
    "\n",
    "plt.plot(m.a_grid, m.v[0].reshape(m.NBH, m.NBA, ZSHOCKS)[10,:, 0] )\n",
    "plt.ylabel(\"value function\")\n",
    "plt.xlabel(\"assets\")\n",
    "plt.show()"
   ]
  },
  {
   "cell_type": "code",
   "execution_count": null,
   "metadata": {
    "collapsed": false,
    "deletable": true,
    "editable": true
   },
   "outputs": [],
   "source": [
    "save_to_csv(m, 0)"
   ]
  },
  {
   "cell_type": "code",
   "execution_count": null,
   "metadata": {
    "collapsed": false
   },
   "outputs": [],
   "source": [
    "m.wage(0,0,1,0,False,0)\n",
    "\n",
    "wage(0,0,1*m.DELTAH,m.HMIN,False,0), wage(0,0,1*m.DELTAH,m.HMIN,False,0.1)"
   ]
  },
  {
   "cell_type": "markdown",
   "metadata": {
    "deletable": true,
    "editable": true
   },
   "source": [
    "Simulation utilities:"
   ]
  },
  {
   "cell_type": "code",
   "execution_count": null,
   "metadata": {
    "collapsed": false,
    "deletable": true,
    "editable": true
   },
   "outputs": [],
   "source": [
    "def simulate_agent(m, log=True):\n",
    "    _dr_idx = m.NBA // 1\n",
    "    _h = m.HMIN + (_dr_idx // m.NBA)*m.DELTAH\n",
    "    _a = m.AMIN + (_dr_idx % m.NBA)*m.DELTAA\n",
    "    res = np.array( [(0, 0, 0, 0.0, 0.0, 0.0, 0.0)]*PERIODS )\n",
    "    if log:\n",
    "        print(\" Period| Job| PP| Shock|     h|     a|    l|     c|     w \")\n",
    "        print(\" {0:6d}|   -|  -|     -|{1:6.0f}|{2: 6.0f}|    -|     -|     -\".\n",
    "                format(0, _h, _a) )\n",
    "    _chosen = -1\n",
    "    for period in range(PERIODS):            \n",
    "        _temp_v = [0]*JOBS\n",
    "        _temp_idx = [0]*JOBS\n",
    "        _temp_state = [(0,0,0)]*JOBS\n",
    "        for j in range(JOBS):\n",
    "            _pp_prob = rnd.random()\n",
    "            if (_pp_prob < PPDDISTRIBUTION[j][period]):\n",
    "                pp = 1\n",
    "            else:\n",
    "                pp = 0\n",
    "            _z_shock_prob = rnd.random()\n",
    "            _z_index = 0\n",
    "            _sum = ZDISTRIBUTION[_z_index]\n",
    "            while (_sum < _z_shock_prob):\n",
    "                _z_index += 1\n",
    "                _sum += ZDISTRIBUTION[_z_index]\n",
    "            _temp_idx[j] = m.dr[map_to_index(pp, j, \n",
    "                j != _chosen)].reshape(m.NBA*m.NBH, ZSHOCKS)[_dr_idx, _z_index]\n",
    "            _temp_v[j] = m.v[map_to_index(pp, j, \n",
    "                j != _chosen)].reshape(m.NBA*m.NBH, ZSHOCKS)[_temp_idx[j], _z_index]\n",
    "            _temp_state[j] = (pp, j == _chosen, z_shock_range[_z_index])\n",
    "        _chosen = np.argmax(_temp_v)\n",
    "        _l = labor(m.HMIN + (_temp_idx[_chosen] // m.NBA)*m.DELTAH, \n",
    "                    m.HMIN + (_dr_idx // m.NBA)*m.DELTAH) / m.AUGMH\n",
    "        _w = wage( _chosen, \n",
    "                    _temp_state[_chosen][0], \n",
    "                    _l*m.AUGMH, \n",
    "                    m.HMIN + (_dr_idx // m.NBA)*m.DELTAH, \n",
    "                    _temp_state[_chosen][1],\n",
    "                    _temp_state[_chosen][2] )\n",
    "        \n",
    "        _c = consumption(m.AMIN + (_temp_idx[_chosen] % m.NBA)*m.DELTAA,\n",
    "                m.AMIN + (_dr_idx % m.NBA)*m.DELTAA, _w)\n",
    "        _dr_idx = _temp_idx[_chosen]\n",
    "        _h = m.HMIN + (_dr_idx // m.NBA)*m.DELTAH\n",
    "        _a = m.AMIN + (_dr_idx % m.NBA)*m.DELTAA\n",
    "        \n",
    "        res[period] = (period + 1, _chosen, \n",
    "                    _temp_state[_chosen][0], \n",
    "                    _h, _l*AUGMH, _c, _w)\n",
    "        if log:\n",
    "#             print(_w, _chosen, \n",
    "#                     _temp_state[_chosen][0], _l,\n",
    "#                     _l*m.AUGMH, \n",
    "#                     m.HMIN + (_dr_idx // m.NBA)*m.DELTAH, \n",
    "#                     _temp_state[_chosen][1],\n",
    "#                     _temp_state[_chosen][2] )\n",
    "            print(\" {0:6d}|{1: 4d}|{2: 3d}|{3: 6.2f}|\".\n",
    "                    format(period + 1,\n",
    "                    _chosen, \n",
    "                    _temp_state[_chosen][0], \n",
    "                    _temp_state[_chosen][2]) +\n",
    "                    \"{0:6.0f}|{1: 6.0f}|{2: 5.2f}|{3: 6.0f}|{4: 6.0f}\".\n",
    "                        format(_h, _a, _l, _c, _w) )\n",
    "    return res\n",
    "        \n",
    "def integrate(m):\n",
    "    average = np.array( [(0, 0, 0, 0.0, 0.0, 0.0, 0.0)]*PERIODS )\n",
    "    for agent in range(AGENTS):\n",
    "        average += simulate_agent(m, log=False)\n",
    "    average /= AGENTS\n",
    "#     print(\"     h|     a|    l|       c|       w \")\n",
    "#     for period in range(PERIODS):   \n",
    "#         (_h, _a, _l, _c, _w) = tuple(average[period])       \n",
    "#         print(\"{0:6.0f}|{1: 6.0f}|{2: 5.2f}|{3: 8.0f}|{4: 8.2f}\".\n",
    "#                         format( _h, _a, _l, _c, _w ) )\n",
    "    return average"
   ]
  },
  {
   "cell_type": "markdown",
   "metadata": {
    "deletable": true,
    "editable": true
   },
   "source": [
    "Simulate one agent:"
   ]
  },
  {
   "cell_type": "code",
   "execution_count": null,
   "metadata": {
    "collapsed": false,
    "deletable": true,
    "editable": true
   },
   "outputs": [],
   "source": [
    "res_1 = simulate_agent(m)"
   ]
  },
  {
   "cell_type": "markdown",
   "metadata": {
    "deletable": true,
    "editable": true
   },
   "source": [
    "Simulate all agents:"
   ]
  },
  {
   "cell_type": "code",
   "execution_count": null,
   "metadata": {
    "collapsed": false,
    "deletable": true,
    "editable": true
   },
   "outputs": [],
   "source": [
    "res = integrate(m)"
   ]
  },
  {
   "cell_type": "markdown",
   "metadata": {
    "deletable": true,
    "editable": true
   },
   "source": [
    "Average consumption versus period:"
   ]
  },
  {
   "cell_type": "code",
   "execution_count": null,
   "metadata": {
    "collapsed": false,
    "deletable": true,
    "editable": true
   },
   "outputs": [],
   "source": [
    "plt.figure()\n",
    "plt.plot(np.linspace(1,PERIODS,PERIODS), np.log(res[:,6]))\n",
    "plt.xlabel(\"Period\")\n",
    "plt.ylabel(\"Log earnings\")\n",
    "plt.figure()\n",
    "plt.plot(np.linspace(1,PERIODS,PERIODS), np.log(res[:,3]))\n",
    "plt.xlabel(\"Period\")\n",
    "plt.ylabel(\"Log cumulative hours worked\")\n",
    "plt.show()"
   ]
  },
  {
   "cell_type": "markdown",
   "metadata": {
    "collapsed": false,
    "deletable": true,
    "editable": true
   },
   "source": []
  },
  {
   "cell_type": "code",
   "execution_count": null,
   "metadata": {
    "collapsed": false,
    "deletable": true,
    "editable": true
   },
   "outputs": [],
   "source": [
    "ar1 = res[1:,4]\n",
    "ar2 = augm(res[:,0])\n",
    "\n",
    "PSI = np.cov(ar1, ar2)[0,1] / (np.std(ar1) * np.std(ar2))\n",
    "CHI = np.mean(res[:,2])\n",
    "\n",
    "print(\"PSI: {0: 0.3f}\\nCHI: {1: 0.3f}\".format(PSI, CHI))"
   ]
  },
  {
   "cell_type": "code",
   "execution_count": null,
   "metadata": {
    "collapsed": false,
    "deletable": true,
    "editable": true
   },
   "outputs": [],
   "source": [
    "PSI"
   ]
  },
  {
   "cell_type": "markdown",
   "metadata": {
    "deletable": true,
    "editable": true
   },
   "source": []
  },
  {
   "cell_type": "code",
   "execution_count": null,
   "metadata": {
    "collapsed": false,
    "deletable": true,
    "editable": true
   },
   "outputs": [],
   "source": [
    "iser=pd.Series([1], dtype='int')\n",
    "fser=pd.Series([1], dtype='float')\n",
    "\n",
    "df = pd.DataFrame({'Agent':iser,'Period':iser,'Job':iser,'PP':iser,'h_cum':fser,'h':fser,'c':fser,'w':fser})\n"
   ]
  },
  {
   "cell_type": "code",
   "execution_count": null,
   "metadata": {
    "collapsed": false,
    "deletable": true,
    "editable": true
   },
   "outputs": [],
   "source": [
    "df1=pd.DataFrame(res_1[:,0:3], dtype='int',columns=['Period','Job','PP'])\n",
    "df2=pd.DataFrame(res_1[:,3:], dtype='float',columns=['h_cum','h','c','w'])\n",
    "df.append(pd.concat([df1,df2], axis=1))"
   ]
  },
  {
   "cell_type": "code",
   "execution_count": null,
   "metadata": {
    "collapsed": false,
    "deletable": true,
    "editable": true
   },
   "outputs": [],
   "source": [
    "res_1[:,0:3]"
   ]
  },
  {
   "cell_type": "code",
   "execution_count": null,
   "metadata": {
    "collapsed": false,
    "deletable": true,
    "editable": true
   },
   "outputs": [],
   "source": []
  },
  {
   "cell_type": "code",
   "execution_count": null,
   "metadata": {
    "collapsed": true,
    "deletable": true,
    "editable": true
   },
   "outputs": [],
   "source": []
  }
 ],
 "metadata": {
  "kernelspec": {
   "display_name": "Python 3",
   "language": "python",
   "name": "python3"
  },
  "language_info": {
   "codemirror_mode": {
    "name": "ipython",
    "version": 3
   },
   "file_extension": ".py",
   "mimetype": "text/x-python",
   "name": "python",
   "nbconvert_exporter": "python",
   "pygments_lexer": "ipython3",
   "version": "3.5.2"
  }
 },
 "nbformat": 4,
 "nbformat_minor": 2
}
