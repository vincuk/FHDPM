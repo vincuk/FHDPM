{
 "cells": [
  {
   "cell_type": "markdown",
   "metadata": {
    "collapsed": false,
    "deletable": true,
    "editable": true
   },
   "source": [
    "# Model visualization"
   ]
  },
  {
   "cell_type": "code",
   "execution_count": 1,
   "metadata": {
    "collapsed": false,
    "deletable": true,
    "editable": true
   },
   "outputs": [],
   "source": [
    "from python.model import Model\n",
    "from python.earnings import earnings_constants\n",
    "from python.parameters import JOBS, CRITERION, MAXITERATIONS, \\\n",
    "                       AUGMA, NBA, AMIN, AMAX, AUGMH, NBH, HMIN, HMAX\n",
    "from python.constants import BETA, R, IOTA, TAU, ZSHOCKS, z_shock_range, pp_range, o_range\n",
    "from python.distributions import PIMATRIX, ZDISTRIBUTION, PPDDISTRIBUTION\n",
    "import numpy as np\n",
    "import random as rnd\n",
    "import matplotlib.pyplot as plt\n",
    "%matplotlib inline"
   ]
  },
  {
   "cell_type": "markdown",
   "metadata": {
    "deletable": true,
    "editable": true
   },
   "source": [
    "Parameters of grid:"
   ]
  },
  {
   "cell_type": "code",
   "execution_count": 2,
   "metadata": {
    "collapsed": true,
    "deletable": true,
    "editable": true
   },
   "outputs": [],
   "source": [
    "PERIODS = 40                          # Number of periods for simulation\n",
    "AGENTS = 500                         # Number of agents\n"
   ]
  },
  {
   "cell_type": "markdown",
   "metadata": {
    "deletable": true,
    "editable": true
   },
   "source": [
    "Moments of model (All):"
   ]
  },
  {
   "cell_type": "code",
   "execution_count": 3,
   "metadata": {
    "collapsed": true,
    "deletable": true,
    "editable": true
   },
   "outputs": [],
   "source": [
    "PSI = 0.41                         # Labor supply elasticity\n",
    "CHI = 0.36                         # Disutility of labor supply"
   ]
  },
  {
   "cell_type": "markdown",
   "metadata": {
    "deletable": true,
    "editable": true
   },
   "source": [
    "Parameters of model:"
   ]
  },
  {
   "cell_type": "code",
   "execution_count": 4,
   "metadata": {
    "collapsed": true,
    "deletable": true,
    "editable": true
   },
   "outputs": [],
   "source": [
    "JOBS = 2                              # Numbers of jobs\n",
    "CRITERION = 1e-3                      # Convergence criterion\n",
    "MAXITERATIONS = 100                   # Maximal number of iterations\n",
    "\n",
    "AUGMA = 22000                         # Borrowing limit\n",
    "NBA = 80                               # Number of assets points in the grid\n",
    "AMIN = 20000                           # Minimal value of assets\n",
    "AMAX = 200000                         # Maximal value of assets\n",
    "\n",
    "AUGMH = 4320                          # Maximum hours worked per year\n",
    "NBH = 60                              # Number of hours worked points in the grid\n",
    "HMIN = 3000                           # Minimal value of hours worked\n",
    "HMAX = 150000                          # Maximal value of hours worked\n",
    "\n",
    "pp_range = [0, 1]                     # List of possible PP states\n",
    "o_range = [False, True]               # List of possible o states\n",
    "\n",
    "z_shock_range = np.array([-1, 0, 1])/10  # Discrete earnings shocks range\n"
   ]
  },
  {
   "cell_type": "markdown",
   "metadata": {
    "deletable": true,
    "editable": true
   },
   "source": [
    "Global functions:"
   ]
  },
  {
   "cell_type": "markdown",
   "metadata": {
    "deletable": true,
    "editable": true
   },
   "source": [
    "Model class:"
   ]
  },
  {
   "cell_type": "code",
   "execution_count": 4,
   "metadata": {
    "collapsed": false,
    "deletable": true,
    "editable": true
   },
   "outputs": [],
   "source": [
    "class NewModel(Model):\n",
    "    def __init__(self, group):\n",
    "        (self.PSI, self.CHI) = (PSI, CHI)\n",
    "        \n",
    "        (self.AMIN, self.AMAX, self.NBA) = (AMIN, AMAX, NBA)\n",
    "        (self.HMIN, self.HMAX, self.NBH) = (HMIN, HMAX, NBH)\n",
    "        self.AUGMA = AUGMA\n",
    "        self.AUGMH = AUGMH\n",
    "        \n",
    "        if self.NBA > 1:\n",
    "            self.DELTAA = (self.AMAX - self.AMIN) / (self.NBA - 1)     \n",
    "        else:\n",
    "            self.DELTAA = 1\n",
    "        if self.NBH > 1:\n",
    "            self.DELTAH = (self.HMAX - self.HMIN) / (self.NBH - 1)     \n",
    "        else:\n",
    "            self.DELTAH = 1\n",
    "        \n",
    "        self.JOBS = JOBS\n",
    "        self.CRITERION = CRITERION\n",
    "        self.MAXITERATIONS = MAXITERATIONS\n",
    "        self.BETA = BETA\n",
    "        self.R =  R\n",
    "        self.IOTA = IOTA\n",
    "        self.TAU = TAU\n",
    "        self.ZSHOCKS = ZSHOCKS\n",
    "        self.z_shock_range = z_shock_range\n",
    "        self.pp_range = pp_range\n",
    "        self.o_range = o_range\n",
    "        self.PIMATRIX = PIMATRIX\n",
    "        \n",
    "        self.WAGECONSTANT = earnings_constants[group]['WAGECONSTANT']\n",
    "        self.ALPHA = earnings_constants[group]['ALPHA']\n",
    "        self.ZETA = earnings_constants[group]['ZETA']\n",
    "        self.GAMMA = earnings_constants[group]['GAMMA']\n",
    "        self.XI = earnings_constants[group]['XI']\n",
    "        \n",
    "        self.a_grid = np.linspace(AMIN, AMAX, NBA)\n",
    "        self.h_grid = np.linspace(HMIN, HMAX, NBH)\n",
    "        \n",
    "        self._size = len(self.pp_range)*len(self.o_range)*self.JOBS\n",
    "        self._full_size = self.NBA*self.NBH\n",
    "\n",
    "        dr = np.ones( (self.NBA*self.NBH, self.ZSHOCKS), dtype=int )\n",
    "        v = np.zeros( (self.NBA*self.NBH, self.ZSHOCKS), dtype=float )\n",
    "        self.v = [v] * ( self._size )\n",
    "        self.dr = [dr] * ( self._size ) \n",
    "    \n",
    "    def show_assets(self, i, j, k):\n",
    "        plt.figure()\n",
    "        plt.plot( self.a_grid, self.a_grid )\n",
    "        plt.plot( self.a_grid,\n",
    "                 self.a_grid[self.dr[i].\n",
    "                 reshape(self.NBH, self.NBA, self.ZSHOCKS)[j, :, k] % NBA] )\n",
    "        plt.ylabel(\"next period asset\")\n",
    "        plt.xlabel(\"asset\")\n",
    "\n",
    "        plt.figure()\n",
    "        plt.plot(self.a_grid, self.v[i].\n",
    "                reshape(self.NBH, self.NBA, self.ZSHOCKS)[j, :, k] )\n",
    "        plt.ylabel(\"value function\")\n",
    "        plt.xlabel(\"asset\")\n",
    "\n",
    "        plt.show()\n",
    "\n",
    "    def show_hours(self, i, j, k):\n",
    "        plt.figure()\n",
    "        plt.plot( self.h_grid, self.h_grid )\n",
    "        plt.plot( self.h_grid,\n",
    "                 self.h_grid[self.dr[i].\n",
    "                 reshape(self.NBH, self.NBA, self.ZSHOCKS)[:, j, k] // NBA] )\n",
    "        plt.ylabel(\"next period cumulative hours worked\")\n",
    "        plt.xlabel(\"cumulative hours worked\")\n",
    "\n",
    "        plt.figure()\n",
    "        plt.plot(self.h_grid, self.v[i].\n",
    "                reshape(self.NBH, self.NBA, self.ZSHOCKS)[:, j, k] )\n",
    "        plt.ylabel(\"value function\")\n",
    "        plt.xlabel(\"cumulative hours worked\")\n",
    "\n",
    "        plt.show()"
   ]
  },
  {
   "cell_type": "markdown",
   "metadata": {
    "deletable": true,
    "editable": true
   },
   "source": [
    "Model evaluation:"
   ]
  },
  {
   "cell_type": "code",
   "execution_count": 5,
   "metadata": {
    "collapsed": false,
    "deletable": true,
    "editable": true
   },
   "outputs": [],
   "source": [
    "m = NewModel(0)\n",
    "# m.evaluate_model()\n",
    "m.load_from_csv(1)"
   ]
  },
  {
   "cell_type": "markdown",
   "metadata": {
    "deletable": true,
    "editable": true
   },
   "source": [
    "Results:"
   ]
  },
  {
   "cell_type": "code",
   "execution_count": 6,
   "metadata": {
    "collapsed": false,
    "deletable": true,
    "editable": true
   },
   "outputs": [
    {
     "data": {
      "image/png": "[encoded data removed]",
      "text/plain": [
       "<matplotlib.figure.Figure at 0x11188d9b0>"
      ]
     },
     "metadata": {},
     "output_type": "display_data"
    },
    {
     "data": {
      "image/png": "[encoded data removed]",
      "text/plain": [
       "<matplotlib.figure.Figure at 0x111a895c0>"
      ]
     },
     "metadata": {},
     "output_type": "display_data"
    }
   ],
   "source": [
    "m.show_assets(0,10,1)"
   ]
  },
  {
   "cell_type": "code",
   "execution_count": 7,
   "metadata": {
    "collapsed": false,
    "deletable": true,
    "editable": true
   },
   "outputs": [
    {
     "data": {
      "image/png": "[encoded data removed]",
      "text/plain": [
       "<matplotlib.figure.Figure at 0x111f70390>"
      ]
     },
     "metadata": {},
     "output_type": "display_data"
    },
    {
     "data": {
      "image/png": "[encoded data removed]",
      "text/plain": [
       "<matplotlib.figure.Figure at 0x112037e48>"
      ]
     },
     "metadata": {},
     "output_type": "display_data"
    }
   ],
   "source": [
    "m.show_hours(2,10,1)"
   ]
  },
  {
   "cell_type": "markdown",
   "metadata": {
    "collapsed": false,
    "deletable": true,
    "editable": true
   },
   "source": [
    "(NBH = 150):\n",
    "370000: 0.5671 \n",
    "360000: 0.5515\n",
    "340000: 0.5204\n",
    "330000: 0.5049\n",
    "(NBH = 170)\n",
    "330000: 0.8903\n",
    "(NBH = 130)\n",
    "330000: 0.5832\n",
    "(NBH = 149)\n",
    "330000: 0.5083\n",
    "(NBH = 151)\n",
    "330000: 0.5015"
   ]
  },
  {
   "cell_type": "markdown",
   "metadata": {
    "deletable": true,
    "editable": true
   },
   "source": [
    "Simulation utilities:"
   ]
  },
  {
   "cell_type": "code",
   "execution_count": 8,
   "metadata": {
    "collapsed": false,
    "deletable": true,
    "editable": true
   },
   "outputs": [],
   "source": [
    "def simulate_agent(m, log=True):\n",
    "    _dr_idx = rnd.randint(0, 5)*m.NBA + rnd.randint(m.NBA // 4, m.NBA // 2)\n",
    "#     for p in range(5):\n",
    "#         _dr_idx = m.dr[p % m.JOBS][_dr_idx, 1]\n",
    "    _maxpp = len(PPDDISTRIBUTION[0])\n",
    "    _h = m.HMIN + (_dr_idx // m.NBA)*m.DELTAH\n",
    "    _a = m.AMIN + (_dr_idx % m.NBA)*m.DELTAA\n",
    "    res = np.array( [(0, 0, 0, 0.0, 0.0, 0.0, 0.0)]*PERIODS )\n",
    "    if log:\n",
    "        print(\" Period| Job| PP| Shock|     h|      a|    l|     c|     w \")\n",
    "        print(\" {0:6d}|   -|  -|     -|{1:6.0f}|{2: 6.0f}|    -|     -|     -\".\n",
    "                format(0, _h, _a) )\n",
    "    _chosen = -1\n",
    "    for period in range(PERIODS):    \n",
    "        if period >= _maxpp:\n",
    "            _per = _maxpp - 1\n",
    "        else:\n",
    "            _per = period\n",
    "        _temp_v = [0]*m.JOBS\n",
    "        _temp_idx = [0]*m.JOBS\n",
    "        _temp_state = [(0,0,0)]*m.JOBS\n",
    "        for j in range(m.JOBS):\n",
    "            _pp_prob = rnd.random()\n",
    "            if (_pp_prob < PPDDISTRIBUTION[j][_per]):\n",
    "                pp = 1\n",
    "            else:\n",
    "                pp = 0\n",
    "            _z_shock_prob = rnd.random()\n",
    "            _z_index = 0\n",
    "            _sum = ZDISTRIBUTION[_z_index]\n",
    "            while (_sum < _z_shock_prob):\n",
    "                _z_index += 1\n",
    "                _sum += ZDISTRIBUTION[_z_index]\n",
    "            _temp_idx[j] = m.dr[m.map_to_index(pp, j, \n",
    "                j == _chosen)].reshape(m.NBA*m.NBH, m.ZSHOCKS)[_dr_idx, _z_index]\n",
    "            _temp_v[j] = m.v[m.map_to_index(pp, j, \n",
    "                j == _chosen)].reshape(m.NBA*m.NBH, m.ZSHOCKS)[_temp_idx[j], _z_index]\n",
    "            _temp_state[j] = (pp, j == _chosen, z_shock_range[_z_index])\n",
    "        _chosen = np.argmax(_temp_v)\n",
    "        _l = m.labor(m.HMIN + (_temp_idx[_chosen] // m.NBA)*m.DELTAH, \n",
    "                    m.HMIN + (_dr_idx // m.NBA)*m.DELTAH) / m.AUGMH\n",
    "\n",
    "        _w = m.wage( _chosen, \n",
    "                    _temp_state[_chosen][0], \n",
    "                    _l*m.AUGMH, \n",
    "                    m.HMIN + (_dr_idx // m.NBA)*m.DELTAH, \n",
    "                    _temp_state[_chosen][1],\n",
    "                    _temp_state[_chosen][2] )\n",
    "        \n",
    "        _c = m.consumption(m.AMIN + (_temp_idx[_chosen] % m.NBA)*m.DELTAA,\n",
    "                m.AMIN + (_dr_idx % m.NBA)*m.DELTAA, _w)\n",
    "        _dr_idx = _temp_idx[_chosen]\n",
    "        _h = m.HMIN + (_dr_idx // m.NBA)*m.DELTAH\n",
    "        _a = m.AMIN + (_dr_idx % m.NBA)*m.DELTAA\n",
    "        \n",
    "        res[period] = (period + 1, _chosen, \n",
    "                    _temp_state[_chosen][0], \n",
    "                    _h, _l*AUGMH, _c, _w)\n",
    "        if log:\n",
    "            print(\" {0:6d}|{1: 4d}|{2: 3d}|{3: 6.2f}|\".\n",
    "                    format(period + 1,\n",
    "                    _chosen, \n",
    "                    _temp_state[_chosen][0], \n",
    "                    _temp_state[_chosen][2]) +\n",
    "                    \"{0:6.0f}|{1: 6.0f}|{2: 5.4f}|{3: 6.0f}|{4: 6.0f}\".\n",
    "                        format(_h, _a, _l, _c, _w) )\n",
    "    return res\n",
    "        \n",
    "def integrate(m):\n",
    "    average_pp_0 = np.array( [(0, 0, 0, 0.0, 0.0, 0.0, 0.0)]*(PERIODS) )\n",
    "    average_pp_1 = np.array( [(0, 0, 0, 0.0, 0.0, 0.0, 0.0)]*(PERIODS) )\n",
    "    index_pp_0 = np.array( [0]*(PERIODS) )\n",
    "    index_pp_1 = np.array( [0]*(PERIODS) )\n",
    "\n",
    "    for agent in range(AGENTS):\n",
    "        _temp_agent = simulate_agent(m, log=False)\n",
    "        for period in range(PERIODS):\n",
    "            if _temp_agent[period][2] == 0:\n",
    "                average_pp_0[period] += _temp_agent[period]\n",
    "                index_pp_0[period] += 1\n",
    "            else:\n",
    "                average_pp_1[period] += _temp_agent[period]\n",
    "                index_pp_1[period] += 1\n",
    "    for period in range(PERIODS):\n",
    "        average_pp_0[period] /= index_pp_0[period]\n",
    "        average_pp_1[period] /= index_pp_1[period]\n",
    "    return (average_pp_0, average_pp_1)\n",
    "\n",
    "def print_res(result):\n",
    "    print(\"     h|       l|       c|       w \")\n",
    "    for period in range(PERIODS):   \n",
    "        (_p, _j, _pp, _h, _l, _c, _w) = tuple(result[period])       \n",
    "        print(\"{0: 6.0f}|{1: 5.4f}|{2: 8.0f}|{3: 8.2f}\".\n",
    "                        format(_h, _l, _c, _w ) )"
   ]
  },
  {
   "cell_type": "markdown",
   "metadata": {
    "deletable": true,
    "editable": true
   },
   "source": [
    "Simulate one agent:"
   ]
  },
  {
   "cell_type": "code",
   "execution_count": 9,
   "metadata": {
    "collapsed": false,
    "deletable": true,
    "editable": true
   },
   "outputs": [
    {
     "name": "stdout",
     "output_type": "stream",
     "text": [
      " Period| Job| PP| Shock|     h|      a|    l|     c|     w \n",
      "      0|   -|  -|     -|  9333| 220947|    -|     -|     -\n",
      "      1|   0|  0|  0.00| 11500| 240842| 0.5015| 18687| 41892\n",
      "      2|   0|  1|  0.00| 13667| 260737| 0.5015| 21805| 45163\n",
      "      3|   0|  0|  0.00| 15833| 280632| 0.5015| 21042| 42967\n",
      "      4|   0|  1|  0.20| 18000| 280632| 0.5015| 53380| 59373\n",
      "      5|   0|  0|  0.00| 20167| 300526| 0.5015| 24012| 46030\n",
      "      6|   0|  0|  0.20| 22333| 300526| 0.5015| 53089| 57842\n",
      "      7|   0|  0|  0.20| 24500| 300526| 0.5015| 54150| 59336\n",
      "      8|   0|  1|  0.00| 26667| 320421| 0.5015| 30285| 53745\n",
      "      9|   0|  0|  0.00| 28833| 340316| 0.5015| 28978| 50783\n",
      "     10|   0|  1|  0.00| 31000| 360211| 0.5015| 33333| 55796\n",
      "     11|   0|  0|  0.00| 33167| 380105| 0.5015| 31953| 52731\n",
      "     12|   0|  1| -0.20| 35333| 360211| 0.5015| 68594| 47177\n",
      "     13|   0|  1|  0.20| 37500| 360211| 0.5015| 65110| 71411\n",
      "     14|   0|  0|  0.20| 39667| 360211| 0.5015| 62365| 67545\n",
      "     15|   0|  1|  0.20| 41833| 360211| 0.5015| 66478| 73337\n",
      "     16|   0|  1| -0.20| 44000| 360211| 0.5015| 49741| 49764\n",
      "     17|   0|  1|  0.20| 46167| 360211| 0.5015| 67734| 75107\n",
      "     18|   0|  1| -0.20| 48333| 360211| 0.5015| 50551| 50905\n",
      "     19|   0|  0|  0.00| 50500| 380105| 0.5015| 36349| 58923\n",
      "     20|   0|  1|  0.20| 52667| 380105| 0.5015| 70247| 77525\n",
      "     21|   0|  1|  0.20| 54833| 380105| 0.5015| 70781| 78278\n",
      "     22|   0|  1| -0.20| 57000| 360211| 0.5015| 72700| 52960\n",
      "     23|   0|  0|  0.20| 59167| 360211| 0.5015| 67657| 74998\n",
      "     24|   0|  0|  0.00| 61333| 380105| 0.5015| 38519| 61979\n",
      "     25|   0|  0| -0.20| 63500| 360211| 0.5015| 71453| 51202\n",
      "     26|   0|  0| -0.20| 65667| 360211| 0.5015| 51079| 51649\n",
      "     27|   0|  0|  0.00| 67833| 380105| 0.5015| 39680| 63615\n",
      "     28|   0|  0|  0.20| 70000| 380105| 0.5015| 70820| 78333\n",
      "     29|   0|  0|  0.00| 72167| 400000| 0.5015| 41204| 64639\n",
      "     30|   0|  0|  0.00| 74333| 400000| 0.5015| 62245| 65134\n",
      "     31|   0|  0|  0.20| 76500| 380105| 0.5015| 92798| 80145\n",
      "     32|   0|  1|  0.20| 78667| 380105| 0.5015| 75764| 85296\n",
      "     33|   0|  1|  0.00| 80833| 400000| 0.5015| 45211| 70284\n",
      "     34|   0|  1|  0.20| 83000| 380105| 0.5015| 97227| 86383\n",
      "     35|   0|  1| -0.20| 85167| 360211| 0.5015| 76462| 58258\n",
      "     36|   0|  1|  0.20| 87333| 360211| 0.5015| 76482| 87427\n",
      "     37|   0|  1| -0.20| 89500| 360211| 0.5015| 56259| 58944\n",
      "     38|   0|  0|  0.20| 91667| 360211| 0.5015| 74015| 83953\n",
      "     39|   0|  1| -0.20| 93833| 360211| 0.5015| 56727| 59604\n",
      "     40|   0|  0|  0.20| 96000| 360211| 0.5015| 74724| 84952\n"
     ]
    }
   ],
   "source": [
    "res_1 = simulate_agent(m)"
   ]
  },
  {
   "cell_type": "markdown",
   "metadata": {
    "deletable": true,
    "editable": true
   },
   "source": [
    "Simulate all agents:"
   ]
  },
  {
   "cell_type": "code",
   "execution_count": 10,
   "metadata": {
    "collapsed": false,
    "deletable": true,
    "editable": true
   },
   "outputs": [],
   "source": [
    "(res0, res1) = integrate(m)"
   ]
  },
  {
   "cell_type": "markdown",
   "metadata": {
    "deletable": true,
    "editable": true
   },
   "source": [
    "Average consumption versus period:"
   ]
  },
  {
   "cell_type": "code",
   "execution_count": 11,
   "metadata": {
    "collapsed": false,
    "deletable": true,
    "editable": true
   },
   "outputs": [
    {
     "data": {
      "image/png": "[encoded data removed]",
      "text/plain": [
       "<matplotlib.figure.Figure at 0x1152fe0f0>"
      ]
     },
     "metadata": {},
     "output_type": "display_data"
    },
    {
     "data": {
      "image/png": "[encoded data removed]",
      "text/plain": [
       "<matplotlib.figure.Figure at 0x1154547b8>"
      ]
     },
     "metadata": {},
     "output_type": "display_data"
    }
   ],
   "source": [
    "plt.figure()\n",
    "plt.plot(np.linspace(1,PERIODS-1,PERIODS-1), np.log(res1[1:,6]))\n",
    "plt.plot(np.linspace(1,PERIODS-1,PERIODS-1), np.log(res0[1:,6]))\n",
    "\n",
    "plt.xlabel(\"Period\")\n",
    "plt.ylabel(\"Log earnings\")\n",
    "plt.figure()\n",
    "plt.plot(np.linspace(1,PERIODS-1,PERIODS-1), np.log(res1[1:,4]))\n",
    "plt.plot(np.linspace(1,PERIODS-1,PERIODS-1), np.log(res0[1:,4]))\n",
    "\n",
    "plt.xlabel(\"Period\")\n",
    "plt.ylabel(\"Log hours worked\")\n",
    "plt.show()"
   ]
  },
  {
   "cell_type": "markdown",
   "metadata": {
    "collapsed": false,
    "deletable": true,
    "editable": true
   },
   "source": []
  },
  {
   "cell_type": "code",
   "execution_count": null,
   "metadata": {
    "collapsed": false,
    "deletable": true,
    "editable": true
   },
   "outputs": [],
   "source": [
    "ar1 = res[1:,4]\n",
    "ar2 = augm(res[:,0])\n",
    "\n",
    "PSI = np.cov(ar1, ar2)[0,1] / (np.std(ar1) * np.std(ar2))\n",
    "CHI = np.mean(res[:,2])\n",
    "\n",
    "print(\"PSI: {0: 0.3f}\\nCHI: {1: 0.3f}\".format(PSI, CHI))"
   ]
  },
  {
   "cell_type": "code",
   "execution_count": null,
   "metadata": {
    "collapsed": false,
    "deletable": true,
    "editable": true
   },
   "outputs": [],
   "source": [
    "PSI"
   ]
  },
  {
   "cell_type": "markdown",
   "metadata": {
    "deletable": true,
    "editable": true
   },
   "source": []
  },
  {
   "cell_type": "code",
   "execution_count": null,
   "metadata": {
    "collapsed": false,
    "deletable": true,
    "editable": true
   },
   "outputs": [],
   "source": [
    "iser=pd.Series([1], dtype='int')\n",
    "fser=pd.Series([1], dtype='float')\n",
    "\n",
    "df = pd.DataFrame({'Agent':iser,'Period':iser,'Job':iser,'PP':iser,'h_cum':fser,'h':fser,'c':fser,'w':fser})\n"
   ]
  },
  {
   "cell_type": "code",
   "execution_count": null,
   "metadata": {
    "collapsed": false,
    "deletable": true,
    "editable": true
   },
   "outputs": [],
   "source": [
    "def augm(a):\n",
    "    x = []\n",
    "    for i in range(1, len(a)):\n",
    "        x.append(a[i] - a[i-1])\n",
    "    return np.array(x)\n",
    "\n",
    "augm(res_1[:,3])"
   ]
  },
  {
   "cell_type": "code",
   "execution_count": null,
   "metadata": {
    "collapsed": false,
    "deletable": true,
    "editable": true
   },
   "outputs": [],
   "source": [
    "df1=pd.DataFrame(res_1[:,0:3], dtype='int',columns=['Period','Job','PP'])\n",
    "df2=pd.DataFrame(res_1[:,3:], dtype='float',columns=['h_cum','h','c','w'])\n",
    "df.append(pd.concat([df1,df2], axis=1))"
   ]
  },
  {
   "cell_type": "code",
   "execution_count": null,
   "metadata": {
    "collapsed": false,
    "deletable": true,
    "editable": true
   },
   "outputs": [],
   "source": [
    "res_1[:,0:3]"
   ]
  },
  {
   "cell_type": "code",
   "execution_count": null,
   "metadata": {
    "collapsed": false,
    "deletable": true,
    "editable": true
   },
   "outputs": [],
   "source": []
  },
  {
   "cell_type": "code",
   "execution_count": null,
   "metadata": {
    "collapsed": true,
    "deletable": true,
    "editable": true
   },
   "outputs": [],
   "source": []
  }
 ],
 "metadata": {
  "kernelspec": {
   "display_name": "Python 3",
   "language": "python",
   "name": "python3"
  },
  "language_info": {
   "codemirror_mode": {
    "name": "ipython",
    "version": 3
   },
   "file_extension": ".py",
   "mimetype": "text/x-python",
   "name": "python",
   "nbconvert_exporter": "python",
   "pygments_lexer": "ipython3",
   "version": "3.5.2"
  }
 },
 "nbformat": 4,
 "nbformat_minor": 2
}
