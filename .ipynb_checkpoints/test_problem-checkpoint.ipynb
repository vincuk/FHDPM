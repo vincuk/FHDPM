{
 "cells": [
  {
   "cell_type": "markdown",
   "metadata": {
    "collapsed": false,
    "deletable": true,
    "editable": true
   },
   "source": [
    "# Test problem"
   ]
  },
  {
   "cell_type": "markdown",
   "metadata": {},
   "source": [
    "Utility function: \n",
    "$$u = E_t\\sum_{\\tau=0}^{\\infty}\\beta^{\\tau}\\Big( \\frac{c^{1-\\sigma}_{t+\\tau}-1}{1-\\sigma} \\Big) \\quad \\mathrm{with} \\quad \\sigma \\in (0,1) \\cup (1, \\infty)$$\n",
    "\n",
    "Budget constraint:\n",
    "$$a_{t+1} = (1+R)a_t + z_{t} - c_t$$\n",
    "\n",
    "where $z_t = 0.5$ if unemployed or $z_t = 1.0$ otherwise.\n",
    "\n",
    "Probability of being unemployed $p = 0.2$."
   ]
  },
  {
   "cell_type": "code",
   "execution_count": 1,
   "metadata": {
    "collapsed": false,
    "deletable": true,
    "editable": true
   },
   "outputs": [],
   "source": [
    "from python.model import Model\n",
    "import numpy as np\n",
    "import matplotlib.pyplot as plt"
   ]
  },
  {
   "cell_type": "markdown",
   "metadata": {
    "deletable": true,
    "editable": true
   },
   "source": [
    "Parameters of grid:"
   ]
  },
  {
   "cell_type": "code",
   "execution_count": 2,
   "metadata": {
    "collapsed": true,
    "deletable": true,
    "editable": true
   },
   "outputs": [],
   "source": [
    "JOBS = 1                              # Numbers of jobs\n",
    "CRITERION = 1e-3                      # Convergence criterion\n",
    "MAXITERATIONS = 100                   # Maximal number of iterations\n",
    "\n",
    "AUGMA = 500                           # Borrowing limit\n",
    "NBA = 1000                            # Number of assets points in the grid\n",
    "AMIN = 0                              # Minimal value of assets\n",
    "AMAX = 10                             # Maximal value of assets"
   ]
  },
  {
   "cell_type": "markdown",
   "metadata": {
    "deletable": true,
    "editable": true
   },
   "source": [
    "Parameters of model:"
   ]
  },
  {
   "cell_type": "code",
   "execution_count": 3,
   "metadata": {
    "collapsed": false,
    "deletable": true,
    "editable": true
   },
   "outputs": [],
   "source": [
    "BETA = 0.95                           # Discount rate\n",
    "R = 0.02                              # Fixed interest rate\n",
    "SIGMA = 1.5                           # Utility parameter\n",
    "\n",
    "ZSHOCKS = 2                           # Number of discrete earnings shocks\n",
    "z_shock_range = np.array([1.0, 0.5])  # Discrete earnings shocks range\n",
    "            \n",
    "# Transition matrix\n",
    "PIMATRIX = np.array([0.8, 0.2, 0.2, 0.8])\n",
    "PIMATRIX = PIMATRIX.reshape(ZSHOCKS, ZSHOCKS)\n",
    "\n",
    "o_range = [False]                     # List of possible o states for test problem\n",
    "pp_range = [0]                        # List of possible PP states for test problem"
   ]
  },
  {
   "cell_type": "markdown",
   "metadata": {
    "deletable": true,
    "editable": true
   },
   "source": [
    "Global functions:"
   ]
  },
  {
   "cell_type": "markdown",
   "metadata": {
    "deletable": true,
    "editable": true
   },
   "source": [
    "Model class:"
   ]
  },
  {
   "cell_type": "code",
   "execution_count": 4,
   "metadata": {
    "collapsed": false,
    "deletable": true,
    "editable": true
   },
   "outputs": [],
   "source": [
    "class TestModel(Model):\n",
    "\n",
    "    def __init__(self):\n",
    "        (self.AMIN, self.AMAX, self.NBA, self.AUGMA) = (AMIN, AMAX, NBA, AUGMA)\n",
    "        (self.HMIN, self.NBH, self.AUGMH, self.DELTAH) = (1, 1, 1, 1)\n",
    "\n",
    "        if self.NBA > 1:\n",
    "            self.DELTAA = (self.AMAX - self.AMIN) / (self.NBA - 1)     \n",
    "        else:\n",
    "            self.DELTAA = 1\n",
    "        \n",
    "        self.JOBS = JOBS\n",
    "        self.CRITERION = CRITERION\n",
    "        self.MAXITERATIONS = MAXITERATIONS\n",
    "        self.BETA = BETA\n",
    "        self.R =  R\n",
    "        self.SIGMA = SIGMA\n",
    "        self.ZSHOCKS = ZSHOCKS\n",
    "        self.z_shock_range = z_shock_range\n",
    "        self.pp_range = pp_range\n",
    "        self.o_range = o_range\n",
    "        self.PIMATRIX = PIMATRIX\n",
    "        \n",
    "        self.a_grid = np.linspace(AMIN, AMAX, NBA)\n",
    "        self.h_grid = np.linspace(1, 1, 1)\n",
    "\n",
    "        self._size = len(self.pp_range)*len(self.o_range)*self.JOBS\n",
    "        self._full_size = self.NBA*self.NBH\n",
    "\n",
    "        dr = np.ones( (self.NBA*self.NBH, self.ZSHOCKS), dtype=int )\n",
    "        v = np.zeros( (self.NBA*self.NBH, self.ZSHOCKS), dtype=float )\n",
    "        self.v = [v] * ( len(pp_range)*len(o_range)*JOBS )\n",
    "        self.dr = [dr] * ( len(pp_range)*len(o_range)*JOBS )      \n",
    "    \n",
    "    def grid_consumption(self, j, pp, h_prime, h, a_prime, a, o, z_shock):\n",
    "        return (1 + self.R)*a + self.z_shock_range[z_shock] - a_prime\n",
    "    \n",
    "    def utility(self, c, l):\n",
    "        if c == 0:\n",
    "            return -np.nan\n",
    "        else:\n",
    "            return (c**(1 - self.SIGMA) - 1) / (1 - self.SIGMA)\n",
    "    \n",
    "    def show(self):\n",
    "        plt.figure()\n",
    "        plt.plot( self.a_grid,\n",
    "                 self.a_grid[self.dr[0].\n",
    "                 reshape(self.NBH, self.NBA, self.ZSHOCKS)[0, :, 0] % NBA] )\n",
    "        plt.plot( self.a_grid,\n",
    "                 self.a_grid[self.dr[0].\n",
    "                 reshape(self.NBH, self.NBA, self.ZSHOCKS)[0, :, 1] % NBA] )\n",
    "        plt.ylabel(\"next period asset holdings\")\n",
    "        plt.xlabel(\"asset\")\n",
    "\n",
    "        plt.figure()\n",
    "        plt.plot(self.a_grid, self.v[0].\n",
    "                reshape(self.NBH, self.NBA, self.ZSHOCKS)[0,:,0] )\n",
    "        plt.plot(self.a_grid, self.v[0].\n",
    "                reshape(self.NBH, self.NBA, self.ZSHOCKS)[0,:,1] )\n",
    "        plt.ylabel(\"value function\")\n",
    "        plt.xlabel(\"asset\")\n",
    "\n",
    "        plt.show()"
   ]
  },
  {
   "cell_type": "markdown",
   "metadata": {
    "deletable": true,
    "editable": true
   },
   "source": [
    "Model evaluation:"
   ]
  },
  {
   "cell_type": "code",
   "execution_count": 5,
   "metadata": {
    "collapsed": false,
    "deletable": true,
    "editable": true
   },
   "outputs": [
    {
     "name": "stdout",
     "output_type": "stream",
     "text": [
      "Matrix:  0; Utility matrix calculated\n",
      "Matrix:  0; Iteration: 16; Distance: 0\n"
     ]
    }
   ],
   "source": [
    "m = TestModel()\n",
    "m.evaluate_model()"
   ]
  },
  {
   "cell_type": "markdown",
   "metadata": {
    "collapsed": false,
    "deletable": true,
    "editable": true
   },
   "source": [
    "Results:"
   ]
  },
  {
   "cell_type": "code",
   "execution_count": 6,
   "metadata": {
    "collapsed": false,
    "deletable": true,
    "editable": true
   },
   "outputs": [
    {
     "data": {
      "image/png": "[encoded data removed]",
      "text/plain": [
       "<matplotlib.figure.Figure at 0x11191f550>"
      ]
     },
     "metadata": {},
     "output_type": "display_data"
    },
    {
     "data": {
      "image/png": "[encoded data removed]",
      "text/plain": [
       "<matplotlib.figure.Figure at 0x114cac550>"
      ]
     },
     "metadata": {},
     "output_type": "display_data"
    }
   ],
   "source": [
    "%matplotlib inline\n",
    "\n",
    "m.show()"
   ]
  }
 ],
 "metadata": {
  "kernelspec": {
   "display_name": "Python 3",
   "language": "python",
   "name": "python3"
  },
  "language_info": {
   "codemirror_mode": {
    "name": "ipython",
    "version": 3
   },
   "file_extension": ".py",
   "mimetype": "text/x-python",
   "name": "python",
   "nbconvert_exporter": "python",
   "pygments_lexer": "ipython3",
   "version": "3.5.2"
  }
 },
 "nbformat": 4,
 "nbformat_minor": 2
}
